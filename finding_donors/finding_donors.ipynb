{
 "cells": [
  {
   "cell_type": "markdown",
   "metadata": {},
   "source": [
    "# Machine Learning Engineer Nanodegree\n",
    "## Supervised Learning\n",
    "## Project: Finding Donors for *CharityML*"
   ]
  },
  {
   "cell_type": "markdown",
   "metadata": {},
   "source": [
    "Welcome to the second project of the Machine Learning Engineer Nanodegree! In this notebook, some template code has already been provided for you, and it will be your job to implement the additional functionality necessary to successfully complete this project. Sections that begin with **'Implementation'** in the header indicate that the following block of code will require additional functionality which you must provide. Instructions will be provided for each section and the specifics of the implementation are marked in the code block with a `'TODO'` statement. Please be sure to read the instructions carefully!\n",
    "\n",
    "In addition to implementing code, there will be questions that you must answer which relate to the project and your implementation. Each section where you will answer a question is preceded by a **'Question X'** header. Carefully read each question and provide thorough answers in the following text boxes that begin with **'Answer:'**. Your project submission will be evaluated based on your answers to each of the questions and the implementation you provide.  \n",
    "\n",
    ">**Note:** Please specify WHICH VERSION OF PYTHON you are using when submitting this notebook. Code and Markdown cells can be executed using the **Shift + Enter** keyboard shortcut. In addition, Markdown cells can be edited by typically double-clicking the cell to enter edit mode."
   ]
  },
  {
   "cell_type": "markdown",
   "metadata": {},
   "source": [
    "## Getting Started\n",
    "\n",
    "In this project, you will employ several supervised algorithms of your choice to accurately model individuals' income using data collected from the 1994 U.S. Census. You will then choose the best candidate algorithm from preliminary results and further optimize this algorithm to best model the data. Your goal with this implementation is to construct a model that accurately predicts whether an individual makes more than $50,000. This sort of task can arise in a non-profit setting, where organizations survive on donations.  Understanding an individual's income can help a non-profit better understand how large of a donation to request, or whether or not they should reach out to begin with.  While it can be difficult to determine an individual's general income bracket directly from public sources, we can (as we will see) infer this value from other publically available features. \n",
    "\n",
    "The dataset for this project originates from the [UCI Machine Learning Repository](https://archive.ics.uci.edu/ml/datasets/Census+Income). The datset was donated by Ron Kohavi and Barry Becker, after being published in the article _\"Scaling Up the Accuracy of Naive-Bayes Classifiers: A Decision-Tree Hybrid\"_. You can find the article by Ron Kohavi [online](https://www.aaai.org/Papers/KDD/1996/KDD96-033.pdf). The data we investigate here consists of small changes to the original dataset, such as removing the `'fnlwgt'` feature and records with missing or ill-formatted entries."
   ]
  },
  {
   "cell_type": "markdown",
   "metadata": {},
   "source": [
    "----\n",
    "## Exploring the Data\n",
    "Run the code cell below to load necessary Python libraries and load the census data. Note that the last column from this dataset, `'income'`, will be our target label (whether an individual makes more than, or at most, $50,000 annually). All other columns are features about each individual in the census database."
   ]
  },
  {
   "cell_type": "code",
   "execution_count": 1,
   "metadata": {},
   "outputs": [
    {
     "data": {
      "text/html": [
       "<div>\n",
       "<style>\n",
       "    .dataframe thead tr:only-child th {\n",
       "        text-align: right;\n",
       "    }\n",
       "\n",
       "    .dataframe thead th {\n",
       "        text-align: left;\n",
       "    }\n",
       "\n",
       "    .dataframe tbody tr th {\n",
       "        vertical-align: top;\n",
       "    }\n",
       "</style>\n",
       "<table border=\"1\" class=\"dataframe\">\n",
       "  <thead>\n",
       "    <tr style=\"text-align: right;\">\n",
       "      <th></th>\n",
       "      <th>age</th>\n",
       "      <th>workclass</th>\n",
       "      <th>education_level</th>\n",
       "      <th>education-num</th>\n",
       "      <th>marital-status</th>\n",
       "      <th>occupation</th>\n",
       "      <th>relationship</th>\n",
       "      <th>race</th>\n",
       "      <th>sex</th>\n",
       "      <th>capital-gain</th>\n",
       "      <th>capital-loss</th>\n",
       "      <th>hours-per-week</th>\n",
       "      <th>native-country</th>\n",
       "      <th>income</th>\n",
       "    </tr>\n",
       "  </thead>\n",
       "  <tbody>\n",
       "    <tr>\n",
       "      <th>0</th>\n",
       "      <td>39</td>\n",
       "      <td>State-gov</td>\n",
       "      <td>Bachelors</td>\n",
       "      <td>13.0</td>\n",
       "      <td>Never-married</td>\n",
       "      <td>Adm-clerical</td>\n",
       "      <td>Not-in-family</td>\n",
       "      <td>White</td>\n",
       "      <td>Male</td>\n",
       "      <td>2174.0</td>\n",
       "      <td>0.0</td>\n",
       "      <td>40.0</td>\n",
       "      <td>United-States</td>\n",
       "      <td>&lt;=50K</td>\n",
       "    </tr>\n",
       "  </tbody>\n",
       "</table>\n",
       "</div>"
      ],
      "text/plain": [
       "   age   workclass education_level  education-num  marital-status  \\\n",
       "0   39   State-gov       Bachelors           13.0   Never-married   \n",
       "\n",
       "      occupation    relationship    race    sex  capital-gain  capital-loss  \\\n",
       "0   Adm-clerical   Not-in-family   White   Male        2174.0           0.0   \n",
       "\n",
       "   hours-per-week  native-country income  \n",
       "0            40.0   United-States  <=50K  "
      ]
     },
     "metadata": {},
     "output_type": "display_data"
    }
   ],
   "source": [
    "# Import libraries necessary for this project\n",
    "import numpy as np\n",
    "import pandas as pd\n",
    "from time import time\n",
    "from IPython.display import display # Allows the use of display() for DataFrames\n",
    "\n",
    "# Import supplementary visualization code visuals.py\n",
    "import visuals as vs\n",
    "\n",
    "# Pretty display for notebooks\n",
    "%matplotlib inline\n",
    "\n",
    "# Load the Census dataset\n",
    "data = pd.read_csv(\"census.csv\")\n",
    "\n",
    "# Success - Display the first record\n",
    "display(data.head(n=1))"
   ]
  },
  {
   "cell_type": "code",
   "execution_count": 8,
   "metadata": {},
   "outputs": [
    {
     "name": "stdout",
     "output_type": "stream",
     "text": [
      "(45222, 14)\n",
      "(11208, 14)\n",
      "(34014, 14)\n"
     ]
    }
   ],
   "source": [
    "print(data.shape)\n",
    "print(data[data['income'] == '>50K'].shape)\n",
    "print(data[data['income'] == '<=50K'].shape)"
   ]
  },
  {
   "cell_type": "markdown",
   "metadata": {},
   "source": [
    "### Implementation: Data Exploration\n",
    "A cursory investigation of the dataset will determine how many individuals fit into either group, and will tell us about the percentage of these individuals making more than \\$50,000. In the code cell below, you will need to compute the following:\n",
    "- The total number of records, `'n_records'`\n",
    "- The number of individuals making more than \\$50,000 annually, `'n_greater_50k'`.\n",
    "- The number of individuals making at most \\$50,000 annually, `'n_at_most_50k'`.\n",
    "- The percentage of individuals making more than \\$50,000 annually, `'greater_percent'`.\n",
    "\n",
    "** HINT: ** You may need to look at the table above to understand how the `'income'` entries are formatted. "
   ]
  },
  {
   "cell_type": "code",
   "execution_count": 10,
   "metadata": {},
   "outputs": [
    {
     "name": "stdout",
     "output_type": "stream",
     "text": [
      "Total number of records: 45222\n",
      "Individuals making more than $50,000: 11208\n",
      "Individuals making at most $50,000: 34014\n",
      "Percentage of individuals making more than $50,000: 24.78%\n"
     ]
    }
   ],
   "source": [
    "# TODO: Total number of records\n",
    "n_records = len(data)\n",
    "\n",
    "# TODO: Number of records where individual's income is more than $50,000\n",
    "n_greater_50k = len(data[data['income'] == '>50K'])\n",
    "\n",
    "# TODO: Number of records where individual's income is at most $50,000\n",
    "n_at_most_50k = len(data[data['income'] == '<=50K'])\n",
    "\n",
    "# TODO: Percentage of individuals whose income is more than $50,000\n",
    "greater_percent = float(n_greater_50k) / n_records * 100\n",
    "\n",
    "# Print the results\n",
    "print \"Total number of records: {}\".format(n_records)\n",
    "print \"Individuals making more than $50,000: {}\".format(n_greater_50k)\n",
    "print \"Individuals making at most $50,000: {}\".format(n_at_most_50k)\n",
    "print \"Percentage of individuals making more than $50,000: {:.2f}%\".format(greater_percent)"
   ]
  },
  {
   "cell_type": "markdown",
   "metadata": {},
   "source": [
    "** Featureset Exploration **\n",
    "\n",
    "* **age**: continuous. \n",
    "* **workclass**: Private, Self-emp-not-inc, Self-emp-inc, Federal-gov, Local-gov, State-gov, Without-pay, Never-worked. \n",
    "* **education**: Bachelors, Some-college, 11th, HS-grad, Prof-school, Assoc-acdm, Assoc-voc, 9th, 7th-8th, 12th, Masters, 1st-4th, 10th, Doctorate, 5th-6th, Preschool. \n",
    "* **education-num**: continuous. \n",
    "* **marital-status**: Married-civ-spouse, Divorced, Never-married, Separated, Widowed, Married-spouse-absent, Married-AF-spouse. \n",
    "* **occupation**: Tech-support, Craft-repair, Other-service, Sales, Exec-managerial, Prof-specialty, Handlers-cleaners, Machine-op-inspct, Adm-clerical, Farming-fishing, Transport-moving, Priv-house-serv, Protective-serv, Armed-Forces. \n",
    "* **relationship**: Wife, Own-child, Husband, Not-in-family, Other-relative, Unmarried. \n",
    "* **race**: Black, White, Asian-Pac-Islander, Amer-Indian-Eskimo, Other. \n",
    "* **sex**: Female, Male. \n",
    "* **capital-gain**: continuous. \n",
    "* **capital-loss**: continuous. \n",
    "* **hours-per-week**: continuous. \n",
    "* **native-country**: United-States, Cambodia, England, Puerto-Rico, Canada, Germany, Outlying-US(Guam-USVI-etc), India, Japan, Greece, South, China, Cuba, Iran, Honduras, Philippines, Italy, Poland, Jamaica, Vietnam, Mexico, Portugal, Ireland, France, Dominican-Republic, Laos, Ecuador, Taiwan, Haiti, Columbia, Hungary, Guatemala, Nicaragua, Scotland, Thailand, Yugoslavia, El-Salvador, Trinadad&Tobago, Peru, Hong, Holand-Netherlands."
   ]
  },
  {
   "cell_type": "markdown",
   "metadata": {},
   "source": [
    "----\n",
    "## Preparing the Data\n",
    "Before data can be used as input for machine learning algorithms, it often must be cleaned, formatted, and restructured — this is typically known as **preprocessing**. Fortunately, for this dataset, there are no invalid or missing entries we must deal with, however, there are some qualities about certain features that must be adjusted. This preprocessing can help tremendously with the outcome and predictive power of nearly all learning algorithms."
   ]
  },
  {
   "cell_type": "markdown",
   "metadata": {},
   "source": [
    "### Transforming Skewed Continuous Features\n",
    "A dataset may sometimes contain at least one feature whose values tend to lie near a single number, but will also have a non-trivial number of vastly larger or smaller values than that single number.  Algorithms can be sensitive to such distributions of values and can underperform if the range is not properly normalized. With the census dataset two features fit this description: '`capital-gain'` and `'capital-loss'`. \n",
    "\n",
    "Run the code cell below to plot a histogram of these two features. Note the range of the values present and how they are distributed."
   ]
  },
  {
   "cell_type": "code",
   "execution_count": 11,
   "metadata": {},
   "outputs": [
    {
     "data": {
      "image/png": "[encoded data removed]",
      "text/plain": [
       "<matplotlib.figure.Figure at 0x7f651f3fe710>"
      ]
     },
     "metadata": {},
     "output_type": "display_data"
    }
   ],
   "source": [
    "# Split the data into features and target label\n",
    "income_raw = data['income']\n",
    "features_raw = data.drop('income', axis = 1)\n",
    "\n",
    "# Visualize skewed continuous features of original data\n",
    "vs.distribution(data)"
   ]
  },
  {
   "cell_type": "markdown",
   "metadata": {},
   "source": [
    "For highly-skewed feature distributions such as `'capital-gain'` and `'capital-loss'`, it is common practice to apply a <a href=\"https://en.wikipedia.org/wiki/Data_transformation_(statistics)\">logarithmic transformation</a> on the data so that the very large and very small values do not negatively affect the performance of a learning algorithm. Using a logarithmic transformation significantly reduces the range of values caused by outliers. Care must be taken when applying this transformation however: The logarithm of `0` is undefined, so we must translate the values by a small amount above `0` to apply the the logarithm successfully.\n",
    "\n",
    "Run the code cell below to perform a transformation on the data and visualize the results. Again, note the range of values and how they are distributed. "
   ]
  },
  {
   "cell_type": "code",
   "execution_count": 12,
   "metadata": {},
   "outputs": [
    {
     "data": {
      "image/png": "[encoded data removed]",
      "text/plain": [
       "<matplotlib.figure.Figure at 0x7f651cf00190>"
      ]
     },
     "metadata": {},
     "output_type": "display_data"
    }
   ],
   "source": [
    "# Log-transform the skewed features\n",
    "skewed = ['capital-gain', 'capital-loss']\n",
    "features_log_transformed = pd.DataFrame(data = features_raw)\n",
    "features_log_transformed[skewed] = features_raw[skewed].apply(lambda x: np.log(x + 1))\n",
    "\n",
    "# Visualize the new log distributions\n",
    "vs.distribution(features_log_transformed, transformed = True)"
   ]
  },
  {
   "cell_type": "code",
   "execution_count": 15,
   "metadata": {},
   "outputs": [
    {
     "name": "stdout",
     "output_type": "stream",
     "text": [
      "((45222, 14), (45222, 13))\n"
     ]
    }
   ],
   "source": [
    "print(data.shape, features_raw.shape)"
   ]
  },
  {
   "cell_type": "markdown",
   "metadata": {},
   "source": [
    "### Normalizing Numerical Features\n",
    "In addition to performing transformations on features that are highly skewed, it is often good practice to perform some type of scaling on numerical features. Applying a scaling to the data does not change the shape of each feature's distribution (such as `'capital-gain'` or `'capital-loss'` above); however, normalization ensures that each feature is treated equally when applying supervised learners. Note that once scaling is applied, observing the data in its raw form will no longer have the same original meaning, as exampled below.\n",
    "\n",
    "Run the code cell below to normalize each numerical feature. We will use [`sklearn.preprocessing.MinMaxScaler`](http://scikit-learn.org/stable/modules/generated/sklearn.preprocessing.MinMaxScaler.html) for this."
   ]
  },
  {
   "cell_type": "code",
   "execution_count": 16,
   "metadata": {},
   "outputs": [
    {
     "data": {
      "text/html": [
       "<div>\n",
       "<style>\n",
       "    .dataframe thead tr:only-child th {\n",
       "        text-align: right;\n",
       "    }\n",
       "\n",
       "    .dataframe thead th {\n",
       "        text-align: left;\n",
       "    }\n",
       "\n",
       "    .dataframe tbody tr th {\n",
       "        vertical-align: top;\n",
       "    }\n",
       "</style>\n",
       "<table border=\"1\" class=\"dataframe\">\n",
       "  <thead>\n",
       "    <tr style=\"text-align: right;\">\n",
       "      <th></th>\n",
       "      <th>age</th>\n",
       "      <th>workclass</th>\n",
       "      <th>education_level</th>\n",
       "      <th>education-num</th>\n",
       "      <th>marital-status</th>\n",
       "      <th>occupation</th>\n",
       "      <th>relationship</th>\n",
       "      <th>race</th>\n",
       "      <th>sex</th>\n",
       "      <th>capital-gain</th>\n",
       "      <th>capital-loss</th>\n",
       "      <th>hours-per-week</th>\n",
       "      <th>native-country</th>\n",
       "    </tr>\n",
       "  </thead>\n",
       "  <tbody>\n",
       "    <tr>\n",
       "      <th>0</th>\n",
       "      <td>0.301370</td>\n",
       "      <td>State-gov</td>\n",
       "      <td>Bachelors</td>\n",
       "      <td>0.800000</td>\n",
       "      <td>Never-married</td>\n",
       "      <td>Adm-clerical</td>\n",
       "      <td>Not-in-family</td>\n",
       "      <td>White</td>\n",
       "      <td>Male</td>\n",
       "      <td>0.667492</td>\n",
       "      <td>0.0</td>\n",
       "      <td>0.397959</td>\n",
       "      <td>United-States</td>\n",
       "    </tr>\n",
       "    <tr>\n",
       "      <th>1</th>\n",
       "      <td>0.452055</td>\n",
       "      <td>Self-emp-not-inc</td>\n",
       "      <td>Bachelors</td>\n",
       "      <td>0.800000</td>\n",
       "      <td>Married-civ-spouse</td>\n",
       "      <td>Exec-managerial</td>\n",
       "      <td>Husband</td>\n",
       "      <td>White</td>\n",
       "      <td>Male</td>\n",
       "      <td>0.000000</td>\n",
       "      <td>0.0</td>\n",
       "      <td>0.122449</td>\n",
       "      <td>United-States</td>\n",
       "    </tr>\n",
       "    <tr>\n",
       "      <th>2</th>\n",
       "      <td>0.287671</td>\n",
       "      <td>Private</td>\n",
       "      <td>HS-grad</td>\n",
       "      <td>0.533333</td>\n",
       "      <td>Divorced</td>\n",
       "      <td>Handlers-cleaners</td>\n",
       "      <td>Not-in-family</td>\n",
       "      <td>White</td>\n",
       "      <td>Male</td>\n",
       "      <td>0.000000</td>\n",
       "      <td>0.0</td>\n",
       "      <td>0.397959</td>\n",
       "      <td>United-States</td>\n",
       "    </tr>\n",
       "    <tr>\n",
       "      <th>3</th>\n",
       "      <td>0.493151</td>\n",
       "      <td>Private</td>\n",
       "      <td>11th</td>\n",
       "      <td>0.400000</td>\n",
       "      <td>Married-civ-spouse</td>\n",
       "      <td>Handlers-cleaners</td>\n",
       "      <td>Husband</td>\n",
       "      <td>Black</td>\n",
       "      <td>Male</td>\n",
       "      <td>0.000000</td>\n",
       "      <td>0.0</td>\n",
       "      <td>0.397959</td>\n",
       "      <td>United-States</td>\n",
       "    </tr>\n",
       "    <tr>\n",
       "      <th>4</th>\n",
       "      <td>0.150685</td>\n",
       "      <td>Private</td>\n",
       "      <td>Bachelors</td>\n",
       "      <td>0.800000</td>\n",
       "      <td>Married-civ-spouse</td>\n",
       "      <td>Prof-specialty</td>\n",
       "      <td>Wife</td>\n",
       "      <td>Black</td>\n",
       "      <td>Female</td>\n",
       "      <td>0.000000</td>\n",
       "      <td>0.0</td>\n",
       "      <td>0.397959</td>\n",
       "      <td>Cuba</td>\n",
       "    </tr>\n",
       "  </tbody>\n",
       "</table>\n",
       "</div>"
      ],
      "text/plain": [
       "        age          workclass education_level  education-num  \\\n",
       "0  0.301370          State-gov       Bachelors       0.800000   \n",
       "1  0.452055   Self-emp-not-inc       Bachelors       0.800000   \n",
       "2  0.287671            Private         HS-grad       0.533333   \n",
       "3  0.493151            Private            11th       0.400000   \n",
       "4  0.150685            Private       Bachelors       0.800000   \n",
       "\n",
       "        marital-status          occupation    relationship    race      sex  \\\n",
       "0        Never-married        Adm-clerical   Not-in-family   White     Male   \n",
       "1   Married-civ-spouse     Exec-managerial         Husband   White     Male   \n",
       "2             Divorced   Handlers-cleaners   Not-in-family   White     Male   \n",
       "3   Married-civ-spouse   Handlers-cleaners         Husband   Black     Male   \n",
       "4   Married-civ-spouse      Prof-specialty            Wife   Black   Female   \n",
       "\n",
       "   capital-gain  capital-loss  hours-per-week  native-country  \n",
       "0      0.667492           0.0        0.397959   United-States  \n",
       "1      0.000000           0.0        0.122449   United-States  \n",
       "2      0.000000           0.0        0.397959   United-States  \n",
       "3      0.000000           0.0        0.397959   United-States  \n",
       "4      0.000000           0.0        0.397959            Cuba  "
      ]
     },
     "metadata": {},
     "output_type": "display_data"
    }
   ],
   "source": [
    "# Import sklearn.preprocessing.StandardScaler\n",
    "from sklearn.preprocessing import MinMaxScaler\n",
    "\n",
    "# Initialize a scaler, then apply it to the features\n",
    "scaler = MinMaxScaler() # default=(0, 1)\n",
    "numerical = ['age', 'education-num', 'capital-gain', 'capital-loss', 'hours-per-week']\n",
    "\n",
    "features_log_minmax_transform = pd.DataFrame(data = features_log_transformed)\n",
    "features_log_minmax_transform[numerical] = scaler.fit_transform(features_log_transformed[numerical])\n",
    "\n",
    "# Show an example of a record with scaling applied\n",
    "display(features_log_minmax_transform.head(n = 5))"
   ]
  },
  {
   "cell_type": "markdown",
   "metadata": {},
   "source": [
    "### Implementation: Data Preprocessing\n",
    "\n",
    "From the table in **Exploring the Data** above, we can see there are several features for each record that are non-numeric. Typically, learning algorithms expect input to be numeric, which requires that non-numeric features (called *categorical variables*) be converted. One popular way to convert categorical variables is by using the **one-hot encoding** scheme. One-hot encoding creates a _\"dummy\"_ variable for each possible category of each non-numeric feature. For example, assume `someFeature` has three possible entries: `A`, `B`, or `C`. We then encode this feature into `someFeature_A`, `someFeature_B` and `someFeature_C`.\n",
    "\n",
    "|   | someFeature |                    | someFeature_A | someFeature_B | someFeature_C |\n",
    "| :-: | :-: |                            | :-: | :-: | :-: |\n",
    "| 0 |  B  |  | 0 | 1 | 0 |\n",
    "| 1 |  C  | ----> one-hot encode ----> | 0 | 0 | 1 |\n",
    "| 2 |  A  |  | 1 | 0 | 0 |\n",
    "\n",
    "Additionally, as with the non-numeric features, we need to convert the non-numeric target label, `'income'` to numerical values for the learning algorithm to work. Since there are only two possible categories for this label (\"<=50K\" and \">50K\"), we can avoid using one-hot encoding and simply encode these two categories as `0` and `1`, respectively. In code cell below, you will need to implement the following:\n",
    " - Use [`pandas.get_dummies()`](http://pandas.pydata.org/pandas-docs/stable/generated/pandas.get_dummies.html?highlight=get_dummies#pandas.get_dummies) to perform one-hot encoding on the `'features_raw'` data.\n",
    " - Convert the target label `'income_raw'` to numerical entries.\n",
    "   - Set records with \"<=50K\" to `0` and records with \">50K\" to `1`."
   ]
  },
  {
   "cell_type": "code",
   "execution_count": 22,
   "metadata": {},
   "outputs": [
    {
     "data": {
      "text/html": [
       "<div>\n",
       "<style>\n",
       "    .dataframe thead tr:only-child th {\n",
       "        text-align: right;\n",
       "    }\n",
       "\n",
       "    .dataframe thead th {\n",
       "        text-align: left;\n",
       "    }\n",
       "\n",
       "    .dataframe tbody tr th {\n",
       "        vertical-align: top;\n",
       "    }\n",
       "</style>\n",
       "<table border=\"1\" class=\"dataframe\">\n",
       "  <thead>\n",
       "    <tr style=\"text-align: right;\">\n",
       "      <th></th>\n",
       "      <th>age</th>\n",
       "      <th>workclass</th>\n",
       "      <th>education_level</th>\n",
       "      <th>education-num</th>\n",
       "      <th>marital-status</th>\n",
       "      <th>occupation</th>\n",
       "      <th>relationship</th>\n",
       "      <th>race</th>\n",
       "      <th>sex</th>\n",
       "      <th>capital-gain</th>\n",
       "      <th>capital-loss</th>\n",
       "      <th>hours-per-week</th>\n",
       "      <th>native-country</th>\n",
       "    </tr>\n",
       "  </thead>\n",
       "  <tbody>\n",
       "    <tr>\n",
       "      <th>0</th>\n",
       "      <td>0.301370</td>\n",
       "      <td>State-gov</td>\n",
       "      <td>Bachelors</td>\n",
       "      <td>0.800000</td>\n",
       "      <td>Never-married</td>\n",
       "      <td>Adm-clerical</td>\n",
       "      <td>Not-in-family</td>\n",
       "      <td>White</td>\n",
       "      <td>Male</td>\n",
       "      <td>0.667492</td>\n",
       "      <td>0.0</td>\n",
       "      <td>0.397959</td>\n",
       "      <td>United-States</td>\n",
       "    </tr>\n",
       "    <tr>\n",
       "      <th>1</th>\n",
       "      <td>0.452055</td>\n",
       "      <td>Self-emp-not-inc</td>\n",
       "      <td>Bachelors</td>\n",
       "      <td>0.800000</td>\n",
       "      <td>Married-civ-spouse</td>\n",
       "      <td>Exec-managerial</td>\n",
       "      <td>Husband</td>\n",
       "      <td>White</td>\n",
       "      <td>Male</td>\n",
       "      <td>0.000000</td>\n",
       "      <td>0.0</td>\n",
       "      <td>0.122449</td>\n",
       "      <td>United-States</td>\n",
       "    </tr>\n",
       "    <tr>\n",
       "      <th>2</th>\n",
       "      <td>0.287671</td>\n",
       "      <td>Private</td>\n",
       "      <td>HS-grad</td>\n",
       "      <td>0.533333</td>\n",
       "      <td>Divorced</td>\n",
       "      <td>Handlers-cleaners</td>\n",
       "      <td>Not-in-family</td>\n",
       "      <td>White</td>\n",
       "      <td>Male</td>\n",
       "      <td>0.000000</td>\n",
       "      <td>0.0</td>\n",
       "      <td>0.397959</td>\n",
       "      <td>United-States</td>\n",
       "    </tr>\n",
       "    <tr>\n",
       "      <th>3</th>\n",
       "      <td>0.493151</td>\n",
       "      <td>Private</td>\n",
       "      <td>11th</td>\n",
       "      <td>0.400000</td>\n",
       "      <td>Married-civ-spouse</td>\n",
       "      <td>Handlers-cleaners</td>\n",
       "      <td>Husband</td>\n",
       "      <td>Black</td>\n",
       "      <td>Male</td>\n",
       "      <td>0.000000</td>\n",
       "      <td>0.0</td>\n",
       "      <td>0.397959</td>\n",
       "      <td>United-States</td>\n",
       "    </tr>\n",
       "    <tr>\n",
       "      <th>4</th>\n",
       "      <td>0.150685</td>\n",
       "      <td>Private</td>\n",
       "      <td>Bachelors</td>\n",
       "      <td>0.800000</td>\n",
       "      <td>Married-civ-spouse</td>\n",
       "      <td>Prof-specialty</td>\n",
       "      <td>Wife</td>\n",
       "      <td>Black</td>\n",
       "      <td>Female</td>\n",
       "      <td>0.000000</td>\n",
       "      <td>0.0</td>\n",
       "      <td>0.397959</td>\n",
       "      <td>Cuba</td>\n",
       "    </tr>\n",
       "  </tbody>\n",
       "</table>\n",
       "</div>"
      ],
      "text/plain": [
       "        age          workclass education_level  education-num  \\\n",
       "0  0.301370          State-gov       Bachelors       0.800000   \n",
       "1  0.452055   Self-emp-not-inc       Bachelors       0.800000   \n",
       "2  0.287671            Private         HS-grad       0.533333   \n",
       "3  0.493151            Private            11th       0.400000   \n",
       "4  0.150685            Private       Bachelors       0.800000   \n",
       "\n",
       "        marital-status          occupation    relationship    race      sex  \\\n",
       "0        Never-married        Adm-clerical   Not-in-family   White     Male   \n",
       "1   Married-civ-spouse     Exec-managerial         Husband   White     Male   \n",
       "2             Divorced   Handlers-cleaners   Not-in-family   White     Male   \n",
       "3   Married-civ-spouse   Handlers-cleaners         Husband   Black     Male   \n",
       "4   Married-civ-spouse      Prof-specialty            Wife   Black   Female   \n",
       "\n",
       "   capital-gain  capital-loss  hours-per-week  native-country  \n",
       "0      0.667492           0.0        0.397959   United-States  \n",
       "1      0.000000           0.0        0.122449   United-States  \n",
       "2      0.000000           0.0        0.397959   United-States  \n",
       "3      0.000000           0.0        0.397959   United-States  \n",
       "4      0.000000           0.0        0.397959            Cuba  "
      ]
     },
     "metadata": {},
     "output_type": "display_data"
    },
    {
     "data": {
      "text/html": [
       "<div>\n",
       "<style>\n",
       "    .dataframe thead tr:only-child th {\n",
       "        text-align: right;\n",
       "    }\n",
       "\n",
       "    .dataframe thead th {\n",
       "        text-align: left;\n",
       "    }\n",
       "\n",
       "    .dataframe tbody tr th {\n",
       "        vertical-align: top;\n",
       "    }\n",
       "</style>\n",
       "<table border=\"1\" class=\"dataframe\">\n",
       "  <thead>\n",
       "    <tr style=\"text-align: right;\">\n",
       "      <th></th>\n",
       "      <th>age</th>\n",
       "      <th>workclass</th>\n",
       "      <th>education_level</th>\n",
       "      <th>education-num</th>\n",
       "      <th>marital-status</th>\n",
       "      <th>occupation</th>\n",
       "      <th>relationship</th>\n",
       "      <th>race</th>\n",
       "      <th>sex</th>\n",
       "      <th>capital-gain</th>\n",
       "      <th>capital-loss</th>\n",
       "      <th>hours-per-week</th>\n",
       "      <th>native-country</th>\n",
       "    </tr>\n",
       "  </thead>\n",
       "  <tbody>\n",
       "    <tr>\n",
       "      <th>0</th>\n",
       "      <td>0.301370</td>\n",
       "      <td>State-gov</td>\n",
       "      <td>Bachelors</td>\n",
       "      <td>0.800000</td>\n",
       "      <td>Never-married</td>\n",
       "      <td>Adm-clerical</td>\n",
       "      <td>Not-in-family</td>\n",
       "      <td>White</td>\n",
       "      <td>Male</td>\n",
       "      <td>0.667492</td>\n",
       "      <td>0.0</td>\n",
       "      <td>0.397959</td>\n",
       "      <td>United-States</td>\n",
       "    </tr>\n",
       "    <tr>\n",
       "      <th>1</th>\n",
       "      <td>0.452055</td>\n",
       "      <td>Self-emp-not-inc</td>\n",
       "      <td>Bachelors</td>\n",
       "      <td>0.800000</td>\n",
       "      <td>Married-civ-spouse</td>\n",
       "      <td>Exec-managerial</td>\n",
       "      <td>Husband</td>\n",
       "      <td>White</td>\n",
       "      <td>Male</td>\n",
       "      <td>0.000000</td>\n",
       "      <td>0.0</td>\n",
       "      <td>0.122449</td>\n",
       "      <td>United-States</td>\n",
       "    </tr>\n",
       "    <tr>\n",
       "      <th>2</th>\n",
       "      <td>0.287671</td>\n",
       "      <td>Private</td>\n",
       "      <td>HS-grad</td>\n",
       "      <td>0.533333</td>\n",
       "      <td>Divorced</td>\n",
       "      <td>Handlers-cleaners</td>\n",
       "      <td>Not-in-family</td>\n",
       "      <td>White</td>\n",
       "      <td>Male</td>\n",
       "      <td>0.000000</td>\n",
       "      <td>0.0</td>\n",
       "      <td>0.397959</td>\n",
       "      <td>United-States</td>\n",
       "    </tr>\n",
       "    <tr>\n",
       "      <th>3</th>\n",
       "      <td>0.493151</td>\n",
       "      <td>Private</td>\n",
       "      <td>11th</td>\n",
       "      <td>0.400000</td>\n",
       "      <td>Married-civ-spouse</td>\n",
       "      <td>Handlers-cleaners</td>\n",
       "      <td>Husband</td>\n",
       "      <td>Black</td>\n",
       "      <td>Male</td>\n",
       "      <td>0.000000</td>\n",
       "      <td>0.0</td>\n",
       "      <td>0.397959</td>\n",
       "      <td>United-States</td>\n",
       "    </tr>\n",
       "    <tr>\n",
       "      <th>4</th>\n",
       "      <td>0.150685</td>\n",
       "      <td>Private</td>\n",
       "      <td>Bachelors</td>\n",
       "      <td>0.800000</td>\n",
       "      <td>Married-civ-spouse</td>\n",
       "      <td>Prof-specialty</td>\n",
       "      <td>Wife</td>\n",
       "      <td>Black</td>\n",
       "      <td>Female</td>\n",
       "      <td>0.000000</td>\n",
       "      <td>0.0</td>\n",
       "      <td>0.397959</td>\n",
       "      <td>Cuba</td>\n",
       "    </tr>\n",
       "  </tbody>\n",
       "</table>\n",
       "</div>"
      ],
      "text/plain": [
       "        age          workclass education_level  education-num  \\\n",
       "0  0.301370          State-gov       Bachelors       0.800000   \n",
       "1  0.452055   Self-emp-not-inc       Bachelors       0.800000   \n",
       "2  0.287671            Private         HS-grad       0.533333   \n",
       "3  0.493151            Private            11th       0.400000   \n",
       "4  0.150685            Private       Bachelors       0.800000   \n",
       "\n",
       "        marital-status          occupation    relationship    race      sex  \\\n",
       "0        Never-married        Adm-clerical   Not-in-family   White     Male   \n",
       "1   Married-civ-spouse     Exec-managerial         Husband   White     Male   \n",
       "2             Divorced   Handlers-cleaners   Not-in-family   White     Male   \n",
       "3   Married-civ-spouse   Handlers-cleaners         Husband   Black     Male   \n",
       "4   Married-civ-spouse      Prof-specialty            Wife   Black   Female   \n",
       "\n",
       "   capital-gain  capital-loss  hours-per-week  native-country  \n",
       "0      0.667492           0.0        0.397959   United-States  \n",
       "1      0.000000           0.0        0.122449   United-States  \n",
       "2      0.000000           0.0        0.397959   United-States  \n",
       "3      0.000000           0.0        0.397959   United-States  \n",
       "4      0.000000           0.0        0.397959            Cuba  "
      ]
     },
     "metadata": {},
     "output_type": "display_data"
    }
   ],
   "source": [
    "display(features_raw.head(5))\n",
    "display(features_log_minmax_transform.head(5))"
   ]
  },
  {
   "cell_type": "code",
   "execution_count": 28,
   "metadata": {},
   "outputs": [
    {
     "data": {
      "text/html": [
       "<div>\n",
       "<style>\n",
       "    .dataframe thead tr:only-child th {\n",
       "        text-align: right;\n",
       "    }\n",
       "\n",
       "    .dataframe thead th {\n",
       "        text-align: left;\n",
       "    }\n",
       "\n",
       "    .dataframe tbody tr th {\n",
       "        vertical-align: top;\n",
       "    }\n",
       "</style>\n",
       "<table border=\"1\" class=\"dataframe\">\n",
       "  <thead>\n",
       "    <tr style=\"text-align: right;\">\n",
       "      <th></th>\n",
       "      <th>age</th>\n",
       "      <th>education-num</th>\n",
       "      <th>capital-gain</th>\n",
       "      <th>capital-loss</th>\n",
       "      <th>hours-per-week</th>\n",
       "      <th>workclass_ Federal-gov</th>\n",
       "      <th>workclass_ Local-gov</th>\n",
       "      <th>workclass_ Private</th>\n",
       "      <th>workclass_ Self-emp-inc</th>\n",
       "      <th>workclass_ Self-emp-not-inc</th>\n",
       "      <th>...</th>\n",
       "      <th>native-country_ Portugal</th>\n",
       "      <th>native-country_ Puerto-Rico</th>\n",
       "      <th>native-country_ Scotland</th>\n",
       "      <th>native-country_ South</th>\n",
       "      <th>native-country_ Taiwan</th>\n",
       "      <th>native-country_ Thailand</th>\n",
       "      <th>native-country_ Trinadad&amp;Tobago</th>\n",
       "      <th>native-country_ United-States</th>\n",
       "      <th>native-country_ Vietnam</th>\n",
       "      <th>native-country_ Yugoslavia</th>\n",
       "    </tr>\n",
       "  </thead>\n",
       "  <tbody>\n",
       "    <tr>\n",
       "      <th>0</th>\n",
       "      <td>0.301370</td>\n",
       "      <td>0.800000</td>\n",
       "      <td>0.667492</td>\n",
       "      <td>0.0</td>\n",
       "      <td>0.397959</td>\n",
       "      <td>0</td>\n",
       "      <td>0</td>\n",
       "      <td>0</td>\n",
       "      <td>0</td>\n",
       "      <td>0</td>\n",
       "      <td>...</td>\n",
       "      <td>0</td>\n",
       "      <td>0</td>\n",
       "      <td>0</td>\n",
       "      <td>0</td>\n",
       "      <td>0</td>\n",
       "      <td>0</td>\n",
       "      <td>0</td>\n",
       "      <td>1</td>\n",
       "      <td>0</td>\n",
       "      <td>0</td>\n",
       "    </tr>\n",
       "    <tr>\n",
       "      <th>1</th>\n",
       "      <td>0.452055</td>\n",
       "      <td>0.800000</td>\n",
       "      <td>0.000000</td>\n",
       "      <td>0.0</td>\n",
       "      <td>0.122449</td>\n",
       "      <td>0</td>\n",
       "      <td>0</td>\n",
       "      <td>0</td>\n",
       "      <td>0</td>\n",
       "      <td>1</td>\n",
       "      <td>...</td>\n",
       "      <td>0</td>\n",
       "      <td>0</td>\n",
       "      <td>0</td>\n",
       "      <td>0</td>\n",
       "      <td>0</td>\n",
       "      <td>0</td>\n",
       "      <td>0</td>\n",
       "      <td>1</td>\n",
       "      <td>0</td>\n",
       "      <td>0</td>\n",
       "    </tr>\n",
       "    <tr>\n",
       "      <th>2</th>\n",
       "      <td>0.287671</td>\n",
       "      <td>0.533333</td>\n",
       "      <td>0.000000</td>\n",
       "      <td>0.0</td>\n",
       "      <td>0.397959</td>\n",
       "      <td>0</td>\n",
       "      <td>0</td>\n",
       "      <td>1</td>\n",
       "      <td>0</td>\n",
       "      <td>0</td>\n",
       "      <td>...</td>\n",
       "      <td>0</td>\n",
       "      <td>0</td>\n",
       "      <td>0</td>\n",
       "      <td>0</td>\n",
       "      <td>0</td>\n",
       "      <td>0</td>\n",
       "      <td>0</td>\n",
       "      <td>1</td>\n",
       "      <td>0</td>\n",
       "      <td>0</td>\n",
       "    </tr>\n",
       "    <tr>\n",
       "      <th>3</th>\n",
       "      <td>0.493151</td>\n",
       "      <td>0.400000</td>\n",
       "      <td>0.000000</td>\n",
       "      <td>0.0</td>\n",
       "      <td>0.397959</td>\n",
       "      <td>0</td>\n",
       "      <td>0</td>\n",
       "      <td>1</td>\n",
       "      <td>0</td>\n",
       "      <td>0</td>\n",
       "      <td>...</td>\n",
       "      <td>0</td>\n",
       "      <td>0</td>\n",
       "      <td>0</td>\n",
       "      <td>0</td>\n",
       "      <td>0</td>\n",
       "      <td>0</td>\n",
       "      <td>0</td>\n",
       "      <td>1</td>\n",
       "      <td>0</td>\n",
       "      <td>0</td>\n",
       "    </tr>\n",
       "    <tr>\n",
       "      <th>4</th>\n",
       "      <td>0.150685</td>\n",
       "      <td>0.800000</td>\n",
       "      <td>0.000000</td>\n",
       "      <td>0.0</td>\n",
       "      <td>0.397959</td>\n",
       "      <td>0</td>\n",
       "      <td>0</td>\n",
       "      <td>1</td>\n",
       "      <td>0</td>\n",
       "      <td>0</td>\n",
       "      <td>...</td>\n",
       "      <td>0</td>\n",
       "      <td>0</td>\n",
       "      <td>0</td>\n",
       "      <td>0</td>\n",
       "      <td>0</td>\n",
       "      <td>0</td>\n",
       "      <td>0</td>\n",
       "      <td>0</td>\n",
       "      <td>0</td>\n",
       "      <td>0</td>\n",
       "    </tr>\n",
       "  </tbody>\n",
       "</table>\n",
       "<p>5 rows × 103 columns</p>\n",
       "</div>"
      ],
      "text/plain": [
       "        age  education-num  capital-gain  capital-loss  hours-per-week  \\\n",
       "0  0.301370       0.800000      0.667492           0.0        0.397959   \n",
       "1  0.452055       0.800000      0.000000           0.0        0.122449   \n",
       "2  0.287671       0.533333      0.000000           0.0        0.397959   \n",
       "3  0.493151       0.400000      0.000000           0.0        0.397959   \n",
       "4  0.150685       0.800000      0.000000           0.0        0.397959   \n",
       "\n",
       "   workclass_ Federal-gov  workclass_ Local-gov  workclass_ Private  \\\n",
       "0                       0                     0                   0   \n",
       "1                       0                     0                   0   \n",
       "2                       0                     0                   1   \n",
       "3                       0                     0                   1   \n",
       "4                       0                     0                   1   \n",
       "\n",
       "   workclass_ Self-emp-inc  workclass_ Self-emp-not-inc  \\\n",
       "0                        0                            0   \n",
       "1                        0                            1   \n",
       "2                        0                            0   \n",
       "3                        0                            0   \n",
       "4                        0                            0   \n",
       "\n",
       "              ...              native-country_ Portugal  \\\n",
       "0             ...                                     0   \n",
       "1             ...                                     0   \n",
       "2             ...                                     0   \n",
       "3             ...                                     0   \n",
       "4             ...                                     0   \n",
       "\n",
       "   native-country_ Puerto-Rico  native-country_ Scotland  \\\n",
       "0                            0                         0   \n",
       "1                            0                         0   \n",
       "2                            0                         0   \n",
       "3                            0                         0   \n",
       "4                            0                         0   \n",
       "\n",
       "   native-country_ South  native-country_ Taiwan  native-country_ Thailand  \\\n",
       "0                      0                       0                         0   \n",
       "1                      0                       0                         0   \n",
       "2                      0                       0                         0   \n",
       "3                      0                       0                         0   \n",
       "4                      0                       0                         0   \n",
       "\n",
       "   native-country_ Trinadad&Tobago  native-country_ United-States  \\\n",
       "0                                0                              1   \n",
       "1                                0                              1   \n",
       "2                                0                              1   \n",
       "3                                0                              1   \n",
       "4                                0                              0   \n",
       "\n",
       "   native-country_ Vietnam  native-country_ Yugoslavia  \n",
       "0                        0                           0  \n",
       "1                        0                           0  \n",
       "2                        0                           0  \n",
       "3                        0                           0  \n",
       "4                        0                           0  \n",
       "\n",
       "[5 rows x 103 columns]"
      ]
     },
     "metadata": {},
     "output_type": "display_data"
    },
    {
     "data": {
      "text/html": [
       "<div>\n",
       "<style>\n",
       "    .dataframe thead tr:only-child th {\n",
       "        text-align: right;\n",
       "    }\n",
       "\n",
       "    .dataframe thead th {\n",
       "        text-align: left;\n",
       "    }\n",
       "\n",
       "    .dataframe tbody tr th {\n",
       "        vertical-align: top;\n",
       "    }\n",
       "</style>\n",
       "<table border=\"1\" class=\"dataframe\">\n",
       "  <thead>\n",
       "    <tr style=\"text-align: right;\">\n",
       "      <th></th>\n",
       "      <th>age</th>\n",
       "      <th>workclass</th>\n",
       "      <th>education_level</th>\n",
       "      <th>education-num</th>\n",
       "      <th>marital-status</th>\n",
       "      <th>occupation</th>\n",
       "      <th>relationship</th>\n",
       "      <th>race</th>\n",
       "      <th>sex</th>\n",
       "      <th>capital-gain</th>\n",
       "      <th>capital-loss</th>\n",
       "      <th>hours-per-week</th>\n",
       "      <th>native-country</th>\n",
       "    </tr>\n",
       "  </thead>\n",
       "  <tbody>\n",
       "    <tr>\n",
       "      <th>0</th>\n",
       "      <td>0.301370</td>\n",
       "      <td>State-gov</td>\n",
       "      <td>Bachelors</td>\n",
       "      <td>0.800000</td>\n",
       "      <td>Never-married</td>\n",
       "      <td>Adm-clerical</td>\n",
       "      <td>Not-in-family</td>\n",
       "      <td>White</td>\n",
       "      <td>Male</td>\n",
       "      <td>0.667492</td>\n",
       "      <td>0.0</td>\n",
       "      <td>0.397959</td>\n",
       "      <td>United-States</td>\n",
       "    </tr>\n",
       "    <tr>\n",
       "      <th>1</th>\n",
       "      <td>0.452055</td>\n",
       "      <td>Self-emp-not-inc</td>\n",
       "      <td>Bachelors</td>\n",
       "      <td>0.800000</td>\n",
       "      <td>Married-civ-spouse</td>\n",
       "      <td>Exec-managerial</td>\n",
       "      <td>Husband</td>\n",
       "      <td>White</td>\n",
       "      <td>Male</td>\n",
       "      <td>0.000000</td>\n",
       "      <td>0.0</td>\n",
       "      <td>0.122449</td>\n",
       "      <td>United-States</td>\n",
       "    </tr>\n",
       "    <tr>\n",
       "      <th>2</th>\n",
       "      <td>0.287671</td>\n",
       "      <td>Private</td>\n",
       "      <td>HS-grad</td>\n",
       "      <td>0.533333</td>\n",
       "      <td>Divorced</td>\n",
       "      <td>Handlers-cleaners</td>\n",
       "      <td>Not-in-family</td>\n",
       "      <td>White</td>\n",
       "      <td>Male</td>\n",
       "      <td>0.000000</td>\n",
       "      <td>0.0</td>\n",
       "      <td>0.397959</td>\n",
       "      <td>United-States</td>\n",
       "    </tr>\n",
       "    <tr>\n",
       "      <th>3</th>\n",
       "      <td>0.493151</td>\n",
       "      <td>Private</td>\n",
       "      <td>11th</td>\n",
       "      <td>0.400000</td>\n",
       "      <td>Married-civ-spouse</td>\n",
       "      <td>Handlers-cleaners</td>\n",
       "      <td>Husband</td>\n",
       "      <td>Black</td>\n",
       "      <td>Male</td>\n",
       "      <td>0.000000</td>\n",
       "      <td>0.0</td>\n",
       "      <td>0.397959</td>\n",
       "      <td>United-States</td>\n",
       "    </tr>\n",
       "    <tr>\n",
       "      <th>4</th>\n",
       "      <td>0.150685</td>\n",
       "      <td>Private</td>\n",
       "      <td>Bachelors</td>\n",
       "      <td>0.800000</td>\n",
       "      <td>Married-civ-spouse</td>\n",
       "      <td>Prof-specialty</td>\n",
       "      <td>Wife</td>\n",
       "      <td>Black</td>\n",
       "      <td>Female</td>\n",
       "      <td>0.000000</td>\n",
       "      <td>0.0</td>\n",
       "      <td>0.397959</td>\n",
       "      <td>Cuba</td>\n",
       "    </tr>\n",
       "  </tbody>\n",
       "</table>\n",
       "</div>"
      ],
      "text/plain": [
       "        age          workclass education_level  education-num  \\\n",
       "0  0.301370          State-gov       Bachelors       0.800000   \n",
       "1  0.452055   Self-emp-not-inc       Bachelors       0.800000   \n",
       "2  0.287671            Private         HS-grad       0.533333   \n",
       "3  0.493151            Private            11th       0.400000   \n",
       "4  0.150685            Private       Bachelors       0.800000   \n",
       "\n",
       "        marital-status          occupation    relationship    race      sex  \\\n",
       "0        Never-married        Adm-clerical   Not-in-family   White     Male   \n",
       "1   Married-civ-spouse     Exec-managerial         Husband   White     Male   \n",
       "2             Divorced   Handlers-cleaners   Not-in-family   White     Male   \n",
       "3   Married-civ-spouse   Handlers-cleaners         Husband   Black     Male   \n",
       "4   Married-civ-spouse      Prof-specialty            Wife   Black   Female   \n",
       "\n",
       "   capital-gain  capital-loss  hours-per-week  native-country  \n",
       "0      0.667492           0.0        0.397959   United-States  \n",
       "1      0.000000           0.0        0.122449   United-States  \n",
       "2      0.000000           0.0        0.397959   United-States  \n",
       "3      0.000000           0.0        0.397959   United-States  \n",
       "4      0.000000           0.0        0.397959            Cuba  "
      ]
     },
     "metadata": {},
     "output_type": "display_data"
    }
   ],
   "source": [
    "features_final = pd.get_dummies(features_log_minmax_transform)\n",
    "display(features_final.head())\n",
    "display(features_log_minmax_transform.head())"
   ]
  },
  {
   "cell_type": "code",
   "execution_count": 98,
   "metadata": {},
   "outputs": [
    {
     "name": "stdout",
     "output_type": "stream",
     "text": [
      "0    <=50K\n",
      "1    <=50K\n",
      "2    <=50K\n",
      "3    <=50K\n",
      "4    <=50K\n",
      "Name: income, dtype: object\n",
      "   income\n",
      "0       0\n",
      "1       0\n",
      "2       0\n",
      "3       0\n",
      "4       0\n"
     ]
    }
   ],
   "source": [
    "print(income_raw.head())\n",
    "income = pd.DataFrame(data=income_raw)\n",
    "income[income == '<=50K'] = 0\n",
    "income[income == '>50K'] = 1\n",
    "print(income.head())"
   ]
  },
  {
   "cell_type": "code",
   "execution_count": 99,
   "metadata": {
    "scrolled": true
   },
   "outputs": [
    {
     "name": "stdout",
     "output_type": "stream",
     "text": [
      "103 total features after one-hot encoding.\n"
     ]
    }
   ],
   "source": [
    "# TODO: One-hot encode the 'features_log_minmax_transform' data using pandas.get_dummies()\n",
    "features_final = pd.get_dummies(features_log_minmax_transform)\n",
    "\n",
    "# TODO: Encode the 'income_raw' data to numerical values\n",
    "income = pd.DataFrame(data=income_raw)\n",
    "income[income == '<=50K'] = 0\n",
    "income[income == '>50K'] = 1 \n",
    "income = income.astype(np.uint32)\n",
    "\n",
    "# Print the number of features after one-hot encoding\n",
    "encoded = list(features_final.columns)\n",
    "print \"{} total features after one-hot encoding.\".format(len(encoded))\n",
    "\n",
    "# Uncomment the following line to see the encoded feature names\n",
    "# print encoded"
   ]
  },
  {
   "cell_type": "markdown",
   "metadata": {},
   "source": [
    "### Shuffle and Split Data\n",
    "Now all _categorical variables_ have been converted into numerical features, and all numerical features have been normalized. As always, we will now split the data (both features and their labels) into training and test sets. 80% of the data will be used for training and 20% for testing.\n",
    "\n",
    "Run the code cell below to perform this split."
   ]
  },
  {
   "cell_type": "code",
   "execution_count": 100,
   "metadata": {},
   "outputs": [
    {
     "name": "stdout",
     "output_type": "stream",
     "text": [
      "Training set has 36177 samples.\n",
      "Testing set has 9045 samples.\n"
     ]
    }
   ],
   "source": [
    "# Import train_test_split\n",
    "from sklearn.model_selection import train_test_split\n",
    "\n",
    "# Split the 'features' and 'income' data into training and testing sets\n",
    "X_train, X_test, y_train, y_test = train_test_split(features_final, \n",
    "                                                    income, \n",
    "                                                    test_size = 0.2, \n",
    "                                                    random_state = 0)\n",
    "\n",
    "# Show the results of the split\n",
    "print \"Training set has {} samples.\".format(X_train.shape[0])\n",
    "print \"Testing set has {} samples.\".format(X_test.shape[0])"
   ]
  },
  {
   "cell_type": "code",
   "execution_count": 118,
   "metadata": {},
   "outputs": [
    {
     "name": "stdout",
     "output_type": "stream",
     "text": [
      "[[ 0.4109589   0.6         0.         ...,  1.          0.          0.        ]\n",
      " [ 0.43835616  0.53333333  0.         ...,  1.          0.          0.        ]\n",
      " [ 0.05479452  0.66666667  0.         ...,  1.          0.          0.        ]\n",
      " ..., \n",
      " [ 0.56164384  0.8         0.         ...,  1.          0.          0.        ]\n",
      " [ 0.53424658  0.53333333  0.         ...,  1.          0.          0.        ]\n",
      " [ 0.23287671  0.53333333  0.70438445 ...,  1.          0.          0.        ]]\n",
      "[0 0 0 ..., 1 0 0]\n",
      "((36177, 103), dtype('float64'))\n",
      "(300, 103)\n",
      "((36177,), dtype('uint32'))\n",
      "[0 1]\n"
     ]
    }
   ],
   "source": [
    "print(X_train.values)\n",
    "print(y_train.values.ravel())\n",
    "\n",
    "print(X_train.values.shape, X_train.values.dtype)\n",
    "print(X_train.values[:300].shape)\n",
    "print(y_train.values.ravel().shape, y_train.values.dtype)\n",
    "\n",
    "print(np.unique(y_test.values))\n"
   ]
  },
  {
   "cell_type": "code",
   "execution_count": 120,
   "metadata": {},
   "outputs": [
    {
     "name": "stdout",
     "output_type": "stream",
     "text": [
      "[ 0.          0.25        0.33333333  0.5         1.        ]\n",
      "0.803980099502\n"
     ]
    }
   ],
   "source": [
    "from sklearn.tree import DecisionTreeRegressor\n",
    "from sklearn.metrics import accuracy_score\n",
    "\n",
    "clf = DecisionTreeRegressor()\n",
    "clf.fit(X_train.values[:3611], y_train.values.ravel()[:3611])\n",
    "y_pred = clf.predict(X_test.values)\n",
    "print(np.unique(y_pred))\n",
    "print(accuracy_score(y_test.values, np.round(y_pred)))"
   ]
  },
  {
   "cell_type": "markdown",
   "metadata": {},
   "source": [
    "----\n",
    "## Evaluating Model Performance\n",
    "In this section, we will investigate four different algorithms, and determine which is best at modeling the data. Three of these algorithms will be supervised learners of your choice, and the fourth algorithm is known as a *naive predictor*."
   ]
  },
  {
   "cell_type": "markdown",
   "metadata": {},
   "source": [
    "### Metrics and the Naive Predictor\n",
    "*CharityML*, equipped with their research, knows individuals that make more than \\$50,000 are most likely to donate to their charity. Because of this, *CharityML* is particularly interested in predicting who makes more than \\$50,000 accurately. It would seem that using **accuracy** as a metric for evaluating a particular model's performace would be appropriate. Additionally, identifying someone that *does not* make more than \\$50,000 as someone who does would be detrimental to *CharityML*, since they are looking to find individuals willing to donate. Therefore, a model's ability to precisely predict those that make more than \\$50,000 is *more important* than the model's ability to **recall** those individuals. We can use **F-beta score** as a metric that considers both precision and recall:\n",
    "\n",
    "$$ F_{\\beta} = (1 + \\beta^2) \\cdot \\frac{precision \\cdot recall}{\\left( \\beta^2 \\cdot precision \\right) + recall} $$\n",
    "\n",
    "In particular, when $\\beta = 0.5$, more emphasis is placed on precision. This is called the **F$_{0.5}$ score** (or F-score for simplicity).\n",
    "\n",
    "Looking at the distribution of classes (those who make at most \\$50,000, and those who make more), it's clear most individuals do not make more than \\$50,000. This can greatly affect **accuracy**, since we could simply say *\"this person does not make more than \\$50,000\"* and generally be right, without ever looking at the data! Making such a statement would be called **naive**, since we have not considered any information to substantiate the claim. It is always important to consider the *naive prediction* for your data, to help establish a benchmark for whether a model is performing well. That been said, using that prediction would be pointless: If we predicted all people made less than \\$50,000, *CharityML* would identify no one as donors. \n",
    "\n",
    "\n",
    "#### Note: Recap of accuracy, precision, recall\n",
    "\n",
    "** Accuracy ** measures how often the classifier makes the correct prediction. It’s the ratio of the number of correct predictions to the total number of predictions (the number of test data points).\n",
    "\n",
    "** Precision ** tells us what proportion of messages we classified as spam, actually were spam.\n",
    "It is a ratio of true positives(words classified as spam, and which are actually spam) to all positives(all words classified as spam, irrespective of whether that was the correct classificatio), in other words it is the ratio of\n",
    "\n",
    "`[True Positives/(True Positives + False Positives)]`\n",
    "\n",
    "** Recall(sensitivity)** tells us what proportion of messages that actually were spam were classified by us as spam.\n",
    "It is a ratio of true positives(words classified as spam, and which are actually spam) to all the words that were actually spam, in other words it is the ratio of\n",
    "\n",
    "`[True Positives/(True Positives + False Negatives)]`\n",
    "\n",
    "For classification problems that are skewed in their classification distributions like in our case, for example if we had a 100 text messages and only 2 were spam and the rest 98 weren't, accuracy by itself is not a very good metric. We could classify 90 messages as not spam(including the 2 that were spam but we classify them as not spam, hence they would be false negatives) and 10 as spam(all 10 false positives) and still get a reasonably good accuracy score. For such cases, precision and recall come in very handy. These two metrics can be combined to get the F1 score, which is weighted average(harmonic mean) of the precision and recall scores. This score can range from 0 to 1, with 1 being the best possible F1 score(we take the harmonic mean as we are dealing with ratios)."
   ]
  },
  {
   "cell_type": "markdown",
   "metadata": {},
   "source": [
    "### Question 1 - Naive Predictor Performace\n",
    "* If we chose a model that always predicted an individual made more than $50,000, what would  that model's accuracy and F-score be on this dataset? You must use the code cell below and assign your results to `'accuracy'` and `'fscore'` to be used later.\n",
    "\n",
    "** Please note ** that the the purpose of generating a naive predictor is simply to show what a base model without any intelligence would look like. In the real world, ideally your base model would be either the results of a previous model or could be based on a research paper upon which you are looking to improve. When there is no benchmark model set, getting a result better than random choice is a place you could start from.\n",
    "\n",
    "** HINT: ** \n",
    "\n",
    "* When we have a model that always predicts '1' (i.e. the individual makes more than 50k) then our model will have no True Negatives(TN) or False Negatives(FN) as we are not making any negative('0' value) predictions. Therefore our Accuracy in this case becomes the same as our Precision(True Positives/(True Positives + False Positives)) as every prediction that we have made with value '1' that should have '0' becomes a False Positive; therefore our denominator in this case is the total number of records we have in total. \n",
    "* Our Recall score(True Positives/(True Positives + False Negatives)) in this setting becomes 1 as we have no False Negatives."
   ]
  },
  {
   "cell_type": "code",
   "execution_count": 137,
   "metadata": {},
   "outputs": [
    {
     "name": "stdout",
     "output_type": "stream",
     "text": [
      "11208\n",
      "34014\n"
     ]
    }
   ],
   "source": [
    "print(np.sum(income)['income'])\n",
    "print(income.count()['income'] - np.sum(income)['income'])"
   ]
  },
  {
   "cell_type": "code",
   "execution_count": 139,
   "metadata": {},
   "outputs": [
    {
     "name": "stdout",
     "output_type": "stream",
     "text": [
      "(11208, 34014)\n",
      "Naive Predictor: [Accuracy score: 0.2478, F-score: 0.2917]\n"
     ]
    }
   ],
   "source": [
    "TP = np.sum(income)['income'] # Counting the ones as this is the naive case. Note that 'income' is the 'income_raw' data encoded to numerical values done in the data preprocessing step.\n",
    "FP = income.count()['income'] - TP # Specific to the naive case\n",
    "print(TP, FP)\n",
    "\n",
    "TN = 0 # No predicted negatives in the naive case\n",
    "FN = 0 # No predicted negatives in the naive case\n",
    "\n",
    "# TODO: Calculate accuracy, precision and recall\n",
    "accuracy = float(TP) / (TP + FP)\n",
    "recall = 1\n",
    "precision = float(TP) / (TP + FP)\n",
    "\n",
    "# TODO: Calculate F-score using the formula above for beta = 0.5 and correct values for precision and recall.\n",
    "# HINT: The formula above can be written as (1 + beta**2) * (precision * recall) / ((beta**2 * precision) + recall)\n",
    "beta = 0.5\n",
    "fscore = (1 + beta ** 2) * (precision * recall) / ((beta ** 2 * precision) + recall)\n",
    "\n",
    "# Print the results \n",
    "print \"Naive Predictor: [Accuracy score: {:.4f}, F-score: {:.4f}]\".format(accuracy, fscore)"
   ]
  },
  {
   "cell_type": "markdown",
   "metadata": {},
   "source": [
    "###  Supervised Learning Models\n",
    "**The following are some of the supervised learning models that are currently available in** [`scikit-learn`](http://scikit-learn.org/stable/supervised_learning.html) **that you may choose from:**\n",
    "- Gaussian Naive Bayes (GaussianNB)\n",
    "- Decision Trees\n",
    "- Ensemble Methods (Bagging, AdaBoost, Random Forest, Gradient Boosting)\n",
    "- K-Nearest Neighbors (KNeighbors)\n",
    "- Stochastic Gradient Descent Classifier (SGDC)\n",
    "- Support Vector Machines (SVM)\n",
    "- Logistic Regression"
   ]
  },
  {
   "cell_type": "markdown",
   "metadata": {},
   "source": [
    "### Question 2 - Model Application\n",
    "List three of the supervised learning models above that are appropriate for this problem that you will test on the census data. For each model chosen\n",
    "\n",
    "- Describe one real-world application in industry where the model can be applied. \n",
    "- What are the strengths of the model; when does it perform well?\n",
    "- What are the weaknesses of the model; when does it perform poorly?\n",
    "- What makes this model a good candidate for the problem, given what you know about the data?\n",
    "\n",
    "** HINT: **\n",
    "\n",
    "Structure your answer in the same format as above^, with 4 parts for each of the three models you pick. Please include references with your answer."
   ]
  },
  {
   "cell_type": "markdown",
   "metadata": {},
   "source": [
    "**Answer: **\n",
    "- **Support Vector Machine**:\n",
    "    + Application: Face Recognition\n",
    "        - We convert every face into a 128-dimensional vector and use SVM to classify.\n",
    "        - Input: 128-dimensional vector.\n",
    "        - Output: ID of the face.\n",
    "    + Strengths:\n",
    "        - Use kernel to fit non-linear data.\n",
    "        - Can use regularization to prevent overfitting.\n",
    "    + Weaknesses:\n",
    "        - Need to choose a kernel carefully with complicated data.\n",
    "    + Reason to be a good candidate:\n",
    "        + The input vector is 103 dimensional. There is no doubt that SVM can performs really well when comparing to K-Nearest Neighbors (a lazy simple method) or Decision Tree.\n",
    "        + The kernel trick can be very useful with various type of kernel functions.\n",
    "  \n",
    "  \n",
    "- **K-Nearest Neighbors**\n",
    "    + Application: Recommendation System such as Youtube, Netflix (find similar users)\n",
    "        - Input: a vector including information about user watching history, user watching time, etc\n",
    "        - Output: a group which this user belongs to/\n",
    "    + Strengths:\n",
    "        - K-NN is a lazy model. It doesn't require training phases.\n",
    "        - Easy to implement and to test.\n",
    "    + Weaknesses:\n",
    "        - For large data, K-NN take a lot of time to find the k nearest neighbors because it has to check with every data points.\n",
    "        - K-NN is very simple. Therefore, with complicated dataset and a lot of noises, K-NN does not generate very well.\n",
    "        - K is hard to determine. Different Ks can affect the results.\n",
    "    + Reason to be a good candidate:\n",
    "        - There is only 2 groups to classify: <= 50K and > 50K.\n",
    "        - The dataset contains about 45,222 samples (not a large dataset) so the computation time can be acceptable.\n",
    "    \n",
    "    \n",
    "- **Decision Trees**\n",
    "    + Application: Celebrity prediction game (http://en.akinator.com/)\n",
    "        - The bot will ask us some yes-no questions about a person whom we are thinking of. \n",
    "        - After about 10-15 questions, it can correctly guess who he or she is.\n",
    "    + Strengths:\n",
    "        - Easy to implement and understand.\n",
    "        - Can be able to detect some odd or skewed features.\n",
    "    + Weaknesses:\n",
    "        - Overfitting is quite annoying although there are some methods such as leaf pruning to prevent overfitting.\n",
    "        - Unstable when there are some small changes in dataset (which leads to some small probability changes).\n",
    "        - Decision Boundary is linear (sometimes it doesn't work well with non-linear data).\n",
    "    + Reason to be a good candidate:\n",
    "        - Training accuracy is high (although it can be overfitting)\n",
    "        - There might be odd features in the dataset for the people who earn more than 50K and the ones who earn less than 50K. "
   ]
  },
  {
   "cell_type": "markdown",
   "metadata": {},
   "source": [
    "### Implementation - Creating a Training and Predicting Pipeline\n",
    "To properly evaluate the performance of each model you've chosen, it's important that you create a training and predicting pipeline that allows you to quickly and effectively train models using various sizes of training data and perform predictions on the testing data. Your implementation here will be used in the following section.\n",
    "In the code block below, you will need to implement the following:\n",
    " - Import `fbeta_score` and `accuracy_score` from [`sklearn.metrics`](http://scikit-learn.org/stable/modules/classes.html#sklearn-metrics-metrics).\n",
    " - Fit the learner to the sampled training data and record the training time.\n",
    " - Perform predictions on the test data `X_test`, and also on the first 300 training points `X_train[:300]`.\n",
    "   - Record the total prediction time.\n",
    " - Calculate the accuracy score for both the training subset and testing set.\n",
    " - Calculate the F-score for both the training subset and testing set.\n",
    "   - Make sure that you set the `beta` parameter!"
   ]
  },
  {
   "cell_type": "code",
   "execution_count": 122,
   "metadata": {
    "collapsed": true
   },
   "outputs": [],
   "source": [
    "# TODO: Import two metrics from sklearn - fbeta_score and accuracy_score\n",
    "from sklearn.metrics import fbeta_score, accuracy_score\n",
    "\n",
    "def train_predict(learner, sample_size, X_train, y_train, X_test, y_test): \n",
    "    '''\n",
    "    inputs:\n",
    "       - learner: the learning algorithm to be trained and predicted on\n",
    "       - sample_size: the size of samples (number) to be drawn from training set\n",
    "       - X_train: features training set\n",
    "       - y_train: income training set\n",
    "       - X_test: features testing set\n",
    "       - y_test: income testing set\n",
    "    '''\n",
    "    \n",
    "    results = {}\n",
    "    \n",
    "    # TODO: Fit the learner to the training data using slicing with 'sample_size' using .fit(training_features[:], training_labels[:])\n",
    "    start = time() # Get start time\n",
    "    learner.fit(X_train[:sample_size], y_train[:sample_size])\n",
    "    end = time() # Get end time\n",
    "    \n",
    "    # TODO: Calculate the training time\n",
    "    results['train_time'] = end - start\n",
    "        \n",
    "    # TODO: Get the predictions on the test set(X_test),\n",
    "    #       then get predictions on the first 300 training samples(X_train) using .predict()\n",
    "    start = time() # Get start time\n",
    "    predictions_test = learner.predict(X_test[:])\n",
    "    predictions_train = learner.predict(X_train[:300])\n",
    "    end = time() # Get end time\n",
    "    \n",
    "    # TODO: Calculate the total prediction time\n",
    "    results['pred_time'] = end - start\n",
    "            \n",
    "    # TODO: Compute accuracy on the first 300 training samples which is y_train[:300]\n",
    "    results['acc_train'] = accuracy_score(y_train[:300], np.round(predictions_train))\n",
    "        \n",
    "    # TODO: Compute accuracy on test set using accuracy_score()\n",
    "    results['acc_test'] = accuracy_score(y_test, np.round(predictions_test))\n",
    "    \n",
    "    # TODO: Compute F-score on the the first 300 training samples using fbeta_score()\n",
    "    results['f_train'] = fbeta_score(y_train[:300], np.round(predictions_train), 0.5)\n",
    "        \n",
    "    # TODO: Compute F-score on the test set which is y_test\n",
    "    results['f_test'] = fbeta_score(y_test, np.round(predictions_test), 0.5)\n",
    "       \n",
    "    # Success\n",
    "    print \"{} trained on {} samples.\".format(learner.__class__.__name__, sample_size)\n",
    "        \n",
    "    # Return the results\n",
    "    return results"
   ]
  },
  {
   "cell_type": "markdown",
   "metadata": {},
   "source": [
    "### Implementation: Initial Model Evaluation\n",
    "In the code cell, you will need to implement the following:\n",
    "- Import the three supervised learning models you've discussed in the previous section.\n",
    "- Initialize the three models and store them in `'clf_A'`, `'clf_B'`, and `'clf_C'`.\n",
    "  - Use a `'random_state'` for each model you use, if provided.\n",
    "  - **Note:** Use the default settings for each model — you will tune one specific model in a later section.\n",
    "- Calculate the number of records equal to 1%, 10%, and 100% of the training data.\n",
    "  - Store those values in `'samples_1'`, `'samples_10'`, and `'samples_100'` respectively.\n",
    "\n",
    "**Note:** Depending on which algorithms you chose, the following implementation may take some time to run!"
   ]
  },
  {
   "cell_type": "code",
   "execution_count": 123,
   "metadata": {},
   "outputs": [
    {
     "name": "stdout",
     "output_type": "stream",
     "text": [
      "SVC trained on 361 samples.\n",
      "SVC trained on 3617 samples.\n",
      "SVC trained on 36177 samples.\n",
      "KNeighborsClassifier trained on 361 samples.\n",
      "KNeighborsClassifier trained on 3617 samples.\n",
      "KNeighborsClassifier trained on 36177 samples.\n",
      "DecisionTreeRegressor trained on 361 samples.\n",
      "DecisionTreeRegressor trained on 3617 samples.\n",
      "DecisionTreeRegressor trained on 36177 samples.\n"
     ]
    },
    {
     "data": {
      "image/png": "[encoded data removed]",
      "text/plain": [
       "<matplotlib.figure.Figure at 0x7f651ce72490>"
      ]
     },
     "metadata": {},
     "output_type": "display_data"
    }
   ],
   "source": [
    "# TODO: Import the three supervised learning models from sklearn\n",
    "from sklearn.svm import SVC\n",
    "from sklearn.neighbors import KNeighborsClassifier\n",
    "from sklearn.tree import DecisionTreeRegressor\n",
    "\n",
    "# TODO: Initialize the three models\n",
    "clf_A = SVC(random_state=10)\n",
    "clf_B = KNeighborsClassifier()\n",
    "clf_C = DecisionTreeRegressor(random_state=10)\n",
    "\n",
    "# TODO: Calculate the number of samples for 1%, 10%, and 100% of the training data\n",
    "# HINT: samples_100 is the entire training set i.e. len(y_train)\n",
    "# HINT: samples_10 is 10% of samples_100\n",
    "# HINT: samples_1 is 1% of samples_100\n",
    "samples_100 = len(y_train)\n",
    "samples_10 = len(y_train) / 10\n",
    "samples_1 = len(y_train) / 100\n",
    "\n",
    "# Collect results on the learners\n",
    "results = {}\n",
    "for clf in [clf_A, clf_B, clf_C]:\n",
    "    clf_name = clf.__class__.__name__\n",
    "    results[clf_name] = {}\n",
    "    for i, samples in enumerate([samples_1, samples_10, samples_100]):\n",
    "        X_train_arr = X_train.values\n",
    "        y_train_arr = y_train.values.ravel()\n",
    "        X_test_arr = X_test.values\n",
    "        y_test_arr = y_test.values.ravel()\n",
    "        results[clf_name][i] = \\\n",
    "            train_predict(clf, samples, X_train_arr, y_train_arr, X_test_arr, y_test_arr)\n",
    "\n",
    "# Run metrics visualization for the three supervised learning models chosen\n",
    "vs.evaluate(results, accuracy, fscore)"
   ]
  },
  {
   "cell_type": "markdown",
   "metadata": {},
   "source": [
    "----\n",
    "## Improving Results\n",
    "In this final section, you will choose from the three supervised learning models the *best* model to use on the student data. You will then perform a grid search optimization for the model over the entire training set (`X_train` and `y_train`) by tuning at least one parameter to improve upon the untuned model's F-score. "
   ]
  },
  {
   "cell_type": "code",
   "execution_count": 132,
   "metadata": {},
   "outputs": [
    {
     "data": {
      "text/plain": [
       "{'acc_test': 0.82122719734660032,\n",
       " 'acc_train': 0.96999999999999997,\n",
       " 'f_test': 0.63354095007901834,\n",
       " 'f_train': 0.96385542168674709,\n",
       " 'pred_time': 0.004000186920166016,\n",
       " 'train_time': 0.41757988929748535}"
      ]
     },
     "metadata": {},
     "output_type": "display_data"
    },
    {
     "data": {
      "text/plain": [
       "{'acc_test': 0.83714759535655059,\n",
       " 'acc_train': 0.85333333333333339,\n",
       " 'f_test': 0.67447717069966051,\n",
       " 'f_train': 0.71969696969696972,\n",
       " 'pred_time': 20.63111400604248,\n",
       " 'train_time': 118.74520015716553}"
      ]
     },
     "metadata": {},
     "output_type": "display_data"
    },
    {
     "data": {
      "text/plain": [
       "{'acc_test': 0.82354892205638475,\n",
       " 'acc_train': 0.8833333333333333,\n",
       " 'f_test': 0.63916413224762081,\n",
       " 'f_train': 0.77160493827160481,\n",
       " 'pred_time': 32.132436990737915,\n",
       " 'train_time': 2.113525152206421}"
      ]
     },
     "metadata": {},
     "output_type": "display_data"
    }
   ],
   "source": [
    "display(results['DecisionTreeRegressor'][2])\n",
    "display(results['SVC'][2])\n",
    "display(results['KNeighborsClassifier'][2])"
   ]
  },
  {
   "cell_type": "markdown",
   "metadata": {},
   "source": [
    "### Question 3 - Choosing the Best Model\n",
    "\n",
    "* Based on the evaluation you performed earlier, in one to two paragraphs, explain to *CharityML* which of the three models you believe to be most appropriate for the task of identifying individuals that make more than \\$50,000. \n",
    "\n",
    "** HINT: ** \n",
    "Look at the graph at the bottom left from the cell above(the visualization created by `vs.evaluate(results, accuracy, fscore)`) and check the F score for the testing set when 100% of the training set is used. Which model has the highest score? Your answer should include discussion of the:\n",
    "* metrics - F score on the testing when 100% of the training data is used, \n",
    "* prediction/training time\n",
    "* the algorithm's suitability for the data."
   ]
  },
  {
   "cell_type": "markdown",
   "metadata": {},
   "source": [
    "**Answer: **\n",
    "SVM has the best performance with the testing accuracy and testing F-score are the highest among 3 choices when the whole training dataset is used.\n",
    "- F score of SVM is 0.67, better than the f scores of Decision Tree and KNN (about 0.63).\n",
    "- SVM has the huge training time (118.7s) but the prediction time is better than KNN (20.6s versus 32.1s). Although SVM time is much inferior to Decision Tree time (training time is only 0.41s and prediction time is 0.004s), the f score and accuracy on the testing set are higher.\n",
    "- For Decision tree, there is a big gap between the f score of training and testing set (about 0.3). The testing accuracy is also 14% more than the training accuracy. That seems Decision tree is overfitting in this case. On the other hand, those numbers of SVM are much better with an acceptable gap. I believe than when tuning the parameters of SVM, I can get a better result."
   ]
  },
  {
   "cell_type": "markdown",
   "metadata": {},
   "source": [
    "### Question 4 - Describing the Model in Layman's Terms\n",
    "\n",
    "* In one to two paragraphs, explain to *CharityML*, in layman's terms, how the final model chosen is supposed to work. Be sure that you are describing the major qualities of the model, such as how the model is trained and how the model makes a prediction. Avoid using advanced mathematical jargon, such as describing equations.\n",
    "\n",
    "** HINT: **\n",
    "\n",
    "When explaining your model, if using external resources please include all citations."
   ]
  },
  {
   "cell_type": "markdown",
   "metadata": {},
   "source": [
    "**Answer: **\n",
    "Support Vector Machine (SVM) has proved to be the best model among 3 chosen models (with the highest accuracy). SVM is trained by finding a margin, which can separate two groups (the ones who earn more than 50K and the ones who don't) in the best way. This margin will maximize the distance between both groups. In the picture, the red line is the best line.\n",
    "![SVM Demo](https://upload.wikimedia.org/wikipedia/commons/thumb/b/b5/Svm_separating_hyperplanes_%28SVG%29.svg/220px-Svm_separating_hyperplanes_%28SVG%29.svg.png)\n",
    "As you can see, when finding this margin, the prediction is very simple. A new person can only on one side and that is where we classify him or her. The strong point of SVM is that it can separate two groups by not only a line but also a curve or any kine of shape you can imagine. Therefore, we can separate our dataset no matter how complicated it is. You can play with SVM in this link [http://cs.stanford.edu/people/karpathy/svmjs/demo/](http://cs.stanford.edu/people/karpathy/svmjs/demo/) by adding more points to the graph."
   ]
  },
  {
   "cell_type": "markdown",
   "metadata": {},
   "source": [
    "### Implementation: Model Tuning\n",
    "Fine tune the chosen model. Use grid search (`GridSearchCV`) with at least one important parameter tuned with at least 3 different values. You will need to use the entire training set for this. In the code cell below, you will need to implement the following:\n",
    "- Import [`sklearn.grid_search.GridSearchCV`](http://scikit-learn.org/0.17/modules/generated/sklearn.grid_search.GridSearchCV.html) and [`sklearn.metrics.make_scorer`](http://scikit-learn.org/stable/modules/generated/sklearn.metrics.make_scorer.html).\n",
    "- Initialize the classifier you've chosen and store it in `clf`.\n",
    " - Set a `random_state` if one is available to the same state you set before.\n",
    "- Create a dictionary of parameters you wish to tune for the chosen model.\n",
    " - Example: `parameters = {'parameter' : [list of values]}`.\n",
    " - **Note:** Avoid tuning the `max_features` parameter of your learner if that parameter is available!\n",
    "- Use `make_scorer` to create an `fbeta_score` scoring object (with $\\beta = 0.5$).\n",
    "- Perform grid search on the classifier `clf` using the `'scorer'`, and store it in `grid_obj`.\n",
    "- Fit the grid search object to the training data (`X_train`, `y_train`), and store it in `grid_fit`.\n",
    "\n",
    "**Note:** Depending on the algorithm chosen and the parameter list, the following implementation may take some time to run!"
   ]
  },
  {
   "cell_type": "code",
   "execution_count": 142,
   "metadata": {},
   "outputs": [
    {
     "name": "stdout",
     "output_type": "stream",
     "text": [
      "Fitting 3 folds for each of 80 candidates, totalling 240 fits\n",
      "[CV] kernel=linear, C=0.01, coef0=0.0 ................................\n",
      "[CV] kernel=linear, C=0.01, coef0=0.0 ................................\n",
      "[CV] kernel=linear, C=0.01, coef0=0.0 ................................\n",
      "[CV] kernel=poly, C=0.01, coef0=0.0 ..................................\n",
      "[CV] . kernel=linear, C=0.01, coef0=0.0, score=0.690583, total= 2.2min\n",
      "[CV] kernel=poly, C=0.01, coef0=0.0 ..................................\n",
      "[CV] . kernel=linear, C=0.01, coef0=0.0, score=0.690384, total= 2.2min\n",
      "[CV] kernel=poly, C=0.01, coef0=0.0 ..................................\n",
      "[CV] . kernel=linear, C=0.01, coef0=0.0, score=0.691639, total= 2.3min\n",
      "[CV] kernel=rbf, C=0.01, coef0=0.0 ...................................\n",
      "[CV] ... kernel=poly, C=0.01, coef0=0.0, score=0.000000, total= 2.5min\n",
      "[CV] kernel=rbf, C=0.01, coef0=0.0 ...................................\n",
      "[CV] ... kernel=poly, C=0.01, coef0=0.0, score=0.000000, total= 2.3min\n",
      "[CV] kernel=rbf, C=0.01, coef0=0.0 ...................................\n"
     ]
    },
    {
     "name": "stderr",
     "output_type": "stream",
     "text": [
      "[Parallel(n_jobs=-1)]: Done   5 tasks      | elapsed:  6.6min\n"
     ]
    },
    {
     "name": "stdout",
     "output_type": "stream",
     "text": [
      "[CV] ... kernel=poly, C=0.01, coef0=0.0, score=0.000000, total= 2.4min\n",
      "[CV] kernel=sigmoid, C=0.01, coef0=0.0 ...............................\n",
      "[CV] .... kernel=rbf, C=0.01, coef0=0.0, score=0.000000, total= 2.9min\n",
      "[CV] kernel=sigmoid, C=0.01, coef0=0.0 ...............................\n",
      "[CV] .... kernel=rbf, C=0.01, coef0=0.0, score=0.000000, total= 2.8min\n",
      "[CV] kernel=sigmoid, C=0.01, coef0=0.0 ...............................\n",
      "[CV]  kernel=sigmoid, C=0.01, coef0=0.0, score=0.000000, total= 2.6min\n",
      "[CV] kernel=linear, C=0.01, coef0=0.05 ...............................\n",
      "[CV] .... kernel=rbf, C=0.01, coef0=0.0, score=0.000000, total= 2.8min\n",
      "[CV] kernel=linear, C=0.01, coef0=0.05 ...............................\n"
     ]
    },
    {
     "name": "stderr",
     "output_type": "stream",
     "text": [
      "[Parallel(n_jobs=-1)]: Done  10 tasks      | elapsed: 10.9min\n"
     ]
    },
    {
     "name": "stdout",
     "output_type": "stream",
     "text": [
      "[CV]  kernel=sigmoid, C=0.01, coef0=0.0, score=0.000000, total= 2.4min\n",
      "[CV] kernel=linear, C=0.01, coef0=0.05 ...............................\n",
      "[CV]  kernel=sigmoid, C=0.01, coef0=0.0, score=0.000000, total= 2.4min\n",
      "[CV] kernel=poly, C=0.01, coef0=0.05 .................................\n",
      "[CV]  kernel=linear, C=0.01, coef0=0.05, score=0.690583, total= 1.9min\n",
      "[CV] kernel=poly, C=0.01, coef0=0.05 .................................\n",
      "[CV]  kernel=linear, C=0.01, coef0=0.05, score=0.690384, total= 2.0min\n",
      "[CV] kernel=poly, C=0.01, coef0=0.05 .................................\n",
      "[CV]  kernel=linear, C=0.01, coef0=0.05, score=0.691639, total= 2.0min\n",
      "[CV] kernel=rbf, C=0.01, coef0=0.05 ..................................\n",
      "[CV] .. kernel=poly, C=0.01, coef0=0.05, score=0.000000, total= 2.3min\n",
      "[CV] kernel=rbf, C=0.01, coef0=0.05 ..................................\n",
      "[CV] .. kernel=poly, C=0.01, coef0=0.05, score=0.000000, total= 2.5min\n",
      "[CV] kernel=rbf, C=0.01, coef0=0.05 ..................................\n"
     ]
    },
    {
     "name": "stderr",
     "output_type": "stream",
     "text": [
      "[Parallel(n_jobs=-1)]: Done  17 tasks      | elapsed: 17.3min\n"
     ]
    },
    {
     "name": "stdout",
     "output_type": "stream",
     "text": [
      "[CV] .. kernel=poly, C=0.01, coef0=0.05, score=0.000000, total= 2.5min\n",
      "[CV] kernel=sigmoid, C=0.01, coef0=0.05 ..............................\n",
      "[CV] ... kernel=rbf, C=0.01, coef0=0.05, score=0.000000, total= 3.0min\n",
      "[CV] kernel=sigmoid, C=0.01, coef0=0.05 ..............................\n",
      "[CV] ... kernel=rbf, C=0.01, coef0=0.05, score=0.000000, total= 3.0min\n",
      "[CV] kernel=sigmoid, C=0.01, coef0=0.05 ..............................\n",
      "[CV]  kernel=sigmoid, C=0.01, coef0=0.05, score=0.000000, total= 2.6min\n",
      "[CV] kernel=linear, C=0.01, coef0=0.1 ................................\n",
      "[CV] ... kernel=rbf, C=0.01, coef0=0.05, score=0.000000, total= 2.7min\n",
      "[CV] kernel=linear, C=0.01, coef0=0.1 ................................\n",
      "[CV]  kernel=sigmoid, C=0.01, coef0=0.05, score=0.000000, total= 2.6min\n",
      "[CV] kernel=linear, C=0.01, coef0=0.1 ................................\n",
      "[CV]  kernel=sigmoid, C=0.01, coef0=0.05, score=0.000000, total= 2.8min\n",
      "[CV] kernel=poly, C=0.01, coef0=0.1 ..................................\n"
     ]
    },
    {
     "name": "stderr",
     "output_type": "stream",
     "text": [
      "[Parallel(n_jobs=-1)]: Done  24 tasks      | elapsed: 24.4min\n"
     ]
    },
    {
     "name": "stdout",
     "output_type": "stream",
     "text": [
      "[CV] . kernel=linear, C=0.01, coef0=0.1, score=0.690583, total= 2.2min\n",
      "[CV] kernel=poly, C=0.01, coef0=0.1 ..................................\n",
      "[CV] . kernel=linear, C=0.01, coef0=0.1, score=0.690384, total= 2.3min\n",
      "[CV] kernel=poly, C=0.01, coef0=0.1 ..................................\n",
      "[CV] . kernel=linear, C=0.01, coef0=0.1, score=0.691639, total= 2.2min\n",
      "[CV] kernel=rbf, C=0.01, coef0=0.1 ...................................\n",
      "[CV] ... kernel=poly, C=0.01, coef0=0.1, score=0.000000, total= 2.6min\n",
      "[CV] kernel=rbf, C=0.01, coef0=0.1 ...................................\n",
      "[CV] ... kernel=poly, C=0.01, coef0=0.1, score=0.000000, total= 2.7min\n",
      "[CV] kernel=rbf, C=0.01, coef0=0.1 ...................................\n",
      "[CV] ... kernel=poly, C=0.01, coef0=0.1, score=0.000000, total= 2.7min\n",
      "[CV] kernel=sigmoid, C=0.01, coef0=0.1 ...............................\n",
      "[CV] .... kernel=rbf, C=0.01, coef0=0.1, score=0.000000, total= 2.9min\n",
      "[CV] kernel=sigmoid, C=0.01, coef0=0.1 ...............................\n",
      "[CV] .... kernel=rbf, C=0.01, coef0=0.1, score=0.000000, total= 2.7min\n",
      "[CV] kernel=sigmoid, C=0.01, coef0=0.1 ...............................\n",
      "[CV]  kernel=sigmoid, C=0.01, coef0=0.1, score=0.000000, total= 2.6min\n",
      "[CV] kernel=linear, C=0.01, coef0=0.5 ................................\n"
     ]
    },
    {
     "name": "stderr",
     "output_type": "stream",
     "text": [
      "[Parallel(n_jobs=-1)]: Done  33 tasks      | elapsed: 32.6min\n"
     ]
    },
    {
     "name": "stdout",
     "output_type": "stream",
     "text": [
      "[CV] .... kernel=rbf, C=0.01, coef0=0.1, score=0.000000, total= 3.0min\n",
      "[CV] kernel=linear, C=0.01, coef0=0.5 ................................\n",
      "[CV]  kernel=sigmoid, C=0.01, coef0=0.1, score=0.000000, total= 2.5min\n",
      "[CV] kernel=linear, C=0.01, coef0=0.5 ................................\n",
      "[CV] . kernel=linear, C=0.01, coef0=0.5, score=0.690583, total= 2.1min\n",
      "[CV] kernel=poly, C=0.01, coef0=0.5 ..................................\n",
      "[CV] . kernel=linear, C=0.01, coef0=0.5, score=0.690384, total= 2.0min\n",
      "[CV] kernel=poly, C=0.01, coef0=0.5 ..................................\n",
      "[CV]  kernel=sigmoid, C=0.01, coef0=0.1, score=0.000000, total= 2.7min\n",
      "[CV] kernel=poly, C=0.01, coef0=0.5 ..................................\n",
      "[CV] . kernel=linear, C=0.01, coef0=0.5, score=0.691639, total= 2.1min\n",
      "[CV] kernel=rbf, C=0.01, coef0=0.5 ...................................\n",
      "[CV] ... kernel=poly, C=0.01, coef0=0.5, score=0.000000, total= 2.4min\n",
      "[CV] kernel=rbf, C=0.01, coef0=0.5 ...................................\n",
      "[CV] ... kernel=poly, C=0.01, coef0=0.5, score=0.000000, total= 2.5min\n",
      "[CV] kernel=rbf, C=0.01, coef0=0.5 ...................................\n",
      "[CV] ... kernel=poly, C=0.01, coef0=0.5, score=0.000000, total= 2.5min\n",
      "[CV] kernel=sigmoid, C=0.01, coef0=0.5 ...............................\n"
     ]
    },
    {
     "name": "stderr",
     "output_type": "stream",
     "text": [
      "[Parallel(n_jobs=-1)]: Done  42 tasks      | elapsed: 40.5min\n"
     ]
    },
    {
     "name": "stdout",
     "output_type": "stream",
     "text": [
      "[CV] .... kernel=rbf, C=0.01, coef0=0.5, score=0.000000, total= 3.0min\n",
      "[CV] kernel=sigmoid, C=0.01, coef0=0.5 ...............................\n",
      "[CV] .... kernel=rbf, C=0.01, coef0=0.5, score=0.000000, total= 2.7min\n",
      "[CV] kernel=sigmoid, C=0.01, coef0=0.5 ...............................\n",
      "[CV] .... kernel=rbf, C=0.01, coef0=0.5, score=0.000000, total= 2.7min\n",
      "[CV] kernel=linear, C=0.1, coef0=0.0 .................................\n",
      "[CV]  kernel=sigmoid, C=0.01, coef0=0.5, score=0.000000, total= 2.7min\n",
      "[CV] kernel=linear, C=0.1, coef0=0.0 .................................\n",
      "[CV] .. kernel=linear, C=0.1, coef0=0.0, score=0.680326, total= 1.7min\n",
      "[CV] kernel=linear, C=0.1, coef0=0.0 .................................\n",
      "[CV] .. kernel=linear, C=0.1, coef0=0.0, score=0.691831, total= 1.7min\n",
      "[CV] kernel=poly, C=0.1, coef0=0.0 ...................................\n",
      "[CV]  kernel=sigmoid, C=0.01, coef0=0.5, score=0.000000, total= 2.9min\n",
      "[CV] kernel=poly, C=0.1, coef0=0.0 ...................................\n",
      "[CV]  kernel=sigmoid, C=0.01, coef0=0.5, score=0.000000, total= 2.8min\n",
      "[CV] kernel=poly, C=0.1, coef0=0.0 ...................................\n",
      "[CV] .. kernel=linear, C=0.1, coef0=0.0, score=0.681268, total= 1.8min\n",
      "[CV] kernel=rbf, C=0.1, coef0=0.0 ....................................\n",
      "[CV] .... kernel=poly, C=0.1, coef0=0.0, score=0.000000, total= 2.3min\n",
      "[CV] kernel=rbf, C=0.1, coef0=0.0 ....................................\n",
      "[CV] .... kernel=poly, C=0.1, coef0=0.0, score=0.000000, total= 2.3min\n",
      "[CV] kernel=rbf, C=0.1, coef0=0.0 ....................................\n"
     ]
    },
    {
     "name": "stderr",
     "output_type": "stream",
     "text": [
      "[Parallel(n_jobs=-1)]: Done  53 tasks      | elapsed: 50.7min\n"
     ]
    },
    {
     "name": "stdout",
     "output_type": "stream",
     "text": [
      "[CV] .... kernel=poly, C=0.1, coef0=0.0, score=0.000000, total= 2.3min\n",
      "[CV] kernel=sigmoid, C=0.1, coef0=0.0 ................................\n",
      "[CV] ..... kernel=rbf, C=0.1, coef0=0.0, score=0.671422, total= 2.7min\n",
      "[CV] kernel=sigmoid, C=0.1, coef0=0.0 ................................\n",
      "[CV] ..... kernel=rbf, C=0.1, coef0=0.0, score=0.665025, total= 2.5min\n",
      "[CV] kernel=sigmoid, C=0.1, coef0=0.0 ................................\n",
      "[CV] ..... kernel=rbf, C=0.1, coef0=0.0, score=0.669611, total= 2.6min\n",
      "[CV] kernel=linear, C=0.1, coef0=0.05 ................................\n",
      "[CV] . kernel=sigmoid, C=0.1, coef0=0.0, score=0.640343, total= 2.6min\n",
      "[CV] kernel=linear, C=0.1, coef0=0.05 ................................\n",
      "[CV] . kernel=sigmoid, C=0.1, coef0=0.0, score=0.632390, total= 2.6min\n",
      "[CV] kernel=linear, C=0.1, coef0=0.05 ................................\n",
      "[CV] . kernel=linear, C=0.1, coef0=0.05, score=0.680326, total= 1.8min\n",
      "[CV] kernel=poly, C=0.1, coef0=0.05 ..................................\n",
      "[CV] . kernel=linear, C=0.1, coef0=0.05, score=0.691831, total= 1.8min\n",
      "[CV] kernel=poly, C=0.1, coef0=0.05 ..................................\n",
      "[CV] . kernel=sigmoid, C=0.1, coef0=0.0, score=0.632623, total= 2.6min\n",
      "[CV] kernel=poly, C=0.1, coef0=0.05 ..................................\n",
      "[CV] . kernel=linear, C=0.1, coef0=0.05, score=0.681268, total= 1.7min\n",
      "[CV] kernel=rbf, C=0.1, coef0=0.05 ...................................\n",
      "[CV] ... kernel=poly, C=0.1, coef0=0.05, score=0.000000, total= 2.3min\n",
      "[CV] kernel=rbf, C=0.1, coef0=0.05 ...................................\n"
     ]
    },
    {
     "name": "stderr",
     "output_type": "stream",
     "text": [
      "[Parallel(n_jobs=-1)]: Done  64 tasks      | elapsed: 60.9min\n"
     ]
    },
    {
     "name": "stdout",
     "output_type": "stream",
     "text": [
      "[CV] ... kernel=poly, C=0.1, coef0=0.05, score=0.000000, total= 2.4min\n",
      "[CV] kernel=rbf, C=0.1, coef0=0.05 ...................................\n",
      "[CV] ... kernel=poly, C=0.1, coef0=0.05, score=0.000000, total= 2.2min\n",
      "[CV] kernel=sigmoid, C=0.1, coef0=0.05 ...............................\n",
      "[CV] .... kernel=rbf, C=0.1, coef0=0.05, score=0.671422, total= 2.6min\n",
      "[CV] kernel=sigmoid, C=0.1, coef0=0.05 ...............................\n",
      "[CV] .... kernel=rbf, C=0.1, coef0=0.05, score=0.665025, total= 2.7min\n",
      "[CV] kernel=sigmoid, C=0.1, coef0=0.05 ...............................\n",
      "[CV] .... kernel=rbf, C=0.1, coef0=0.05, score=0.669611, total= 2.6min\n",
      "[CV] kernel=linear, C=0.1, coef0=0.1 .................................\n",
      "[CV]  kernel=sigmoid, C=0.1, coef0=0.05, score=0.639217, total= 2.6min\n",
      "[CV] kernel=linear, C=0.1, coef0=0.1 .................................\n",
      "[CV]  kernel=sigmoid, C=0.1, coef0=0.05, score=0.632108, total= 2.5min\n",
      "[CV] kernel=linear, C=0.1, coef0=0.1 .................................\n",
      "[CV] .. kernel=linear, C=0.1, coef0=0.1, score=0.680326, total= 1.8min\n",
      "[CV] kernel=poly, C=0.1, coef0=0.1 ...................................\n",
      "[CV] .. kernel=linear, C=0.1, coef0=0.1, score=0.691831, total= 1.7min\n",
      "[CV] kernel=poly, C=0.1, coef0=0.1 ...................................\n",
      "[CV]  kernel=sigmoid, C=0.1, coef0=0.05, score=0.630821, total= 2.5min\n",
      "[CV] kernel=poly, C=0.1, coef0=0.1 ...................................\n",
      "[CV] .. kernel=linear, C=0.1, coef0=0.1, score=0.681268, total= 1.9min\n",
      "[CV] kernel=rbf, C=0.1, coef0=0.1 ....................................\n",
      "[CV] .... kernel=poly, C=0.1, coef0=0.1, score=0.000000, total= 2.3min\n",
      "[CV] kernel=rbf, C=0.1, coef0=0.1 ....................................\n",
      "[CV] .... kernel=poly, C=0.1, coef0=0.1, score=0.000000, total= 2.4min\n",
      "[CV] kernel=rbf, C=0.1, coef0=0.1 ....................................\n"
     ]
    },
    {
     "name": "stderr",
     "output_type": "stream",
     "text": [
      "[Parallel(n_jobs=-1)]: Done  77 tasks      | elapsed: 72.0min\n"
     ]
    },
    {
     "name": "stdout",
     "output_type": "stream",
     "text": [
      "[CV] .... kernel=poly, C=0.1, coef0=0.1, score=0.000000, total= 2.2min\n",
      "[CV] kernel=sigmoid, C=0.1, coef0=0.1 ................................\n",
      "[CV] ..... kernel=rbf, C=0.1, coef0=0.1, score=0.671422, total= 2.5min\n",
      "[CV] kernel=sigmoid, C=0.1, coef0=0.1 ................................\n",
      "[CV] ..... kernel=rbf, C=0.1, coef0=0.1, score=0.665025, total= 2.5min\n",
      "[CV] kernel=sigmoid, C=0.1, coef0=0.1 ................................\n",
      "[CV] ..... kernel=rbf, C=0.1, coef0=0.1, score=0.669611, total= 2.9min\n",
      "[CV] kernel=linear, C=0.1, coef0=0.5 .................................\n",
      "[CV] . kernel=sigmoid, C=0.1, coef0=0.1, score=0.636911, total= 2.9min\n",
      "[CV] kernel=linear, C=0.1, coef0=0.5 .................................\n",
      "[CV] . kernel=sigmoid, C=0.1, coef0=0.1, score=0.630647, total= 2.7min\n",
      "[CV] kernel=linear, C=0.1, coef0=0.5 .................................\n",
      "[CV] .. kernel=linear, C=0.1, coef0=0.5, score=0.680326, total= 1.8min\n",
      "[CV] kernel=poly, C=0.1, coef0=0.5 ...................................\n",
      "[CV] .. kernel=linear, C=0.1, coef0=0.5, score=0.691831, total= 1.7min\n",
      "[CV] kernel=poly, C=0.1, coef0=0.5 ...................................\n",
      "[CV] . kernel=sigmoid, C=0.1, coef0=0.1, score=0.626181, total= 2.5min\n",
      "[CV] kernel=poly, C=0.1, coef0=0.5 ...................................\n",
      "[CV] .. kernel=linear, C=0.1, coef0=0.5, score=0.681268, total= 1.8min\n",
      "[CV] kernel=rbf, C=0.1, coef0=0.5 ....................................\n",
      "[CV] .... kernel=poly, C=0.1, coef0=0.5, score=0.624315, total= 2.2min\n",
      "[CV] kernel=rbf, C=0.1, coef0=0.5 ....................................\n",
      "[CV] .... kernel=poly, C=0.1, coef0=0.5, score=0.632049, total= 2.4min\n",
      "[CV] kernel=rbf, C=0.1, coef0=0.5 ....................................\n",
      "[CV] .... kernel=poly, C=0.1, coef0=0.5, score=0.627749, total= 2.2min\n",
      "[CV] kernel=sigmoid, C=0.1, coef0=0.5 ................................\n"
     ]
    },
    {
     "name": "stderr",
     "output_type": "stream",
     "text": [
      "[Parallel(n_jobs=-1)]: Done  90 tasks      | elapsed: 82.7min\n"
     ]
    },
    {
     "name": "stdout",
     "output_type": "stream",
     "text": [
      "[CV] ..... kernel=rbf, C=0.1, coef0=0.5, score=0.671422, total= 2.4min\n",
      "[CV] kernel=sigmoid, C=0.1, coef0=0.5 ................................\n",
      "[CV] ..... kernel=rbf, C=0.1, coef0=0.5, score=0.665025, total= 2.4min\n",
      "[CV] kernel=sigmoid, C=0.1, coef0=0.5 ................................\n",
      "[CV] ..... kernel=rbf, C=0.1, coef0=0.5, score=0.669611, total= 2.4min\n",
      "[CV] kernel=linear, C=0.5, coef0=0.0 .................................\n",
      "[CV] . kernel=sigmoid, C=0.1, coef0=0.5, score=0.400693, total= 2.7min\n",
      "[CV] kernel=linear, C=0.5, coef0=0.0 .................................\n",
      "[CV] . kernel=sigmoid, C=0.1, coef0=0.5, score=0.419006, total= 2.5min\n",
      "[CV] kernel=linear, C=0.5, coef0=0.0 .................................\n",
      "[CV] .. kernel=linear, C=0.5, coef0=0.0, score=0.680546, total= 1.8min\n",
      "[CV] kernel=poly, C=0.5, coef0=0.0 ...................................\n",
      "[CV] .. kernel=linear, C=0.5, coef0=0.0, score=0.690859, total= 1.6min\n",
      "[CV] kernel=poly, C=0.5, coef0=0.0 ...................................\n",
      "[CV] . kernel=sigmoid, C=0.1, coef0=0.5, score=0.382294, total= 2.8min\n",
      "[CV] kernel=poly, C=0.5, coef0=0.0 ...................................\n",
      "[CV] .. kernel=linear, C=0.5, coef0=0.0, score=0.681200, total= 1.8min\n",
      "[CV] kernel=rbf, C=0.5, coef0=0.0 ....................................\n",
      "[CV] .... kernel=poly, C=0.5, coef0=0.0, score=0.000000, total= 2.5min\n",
      "[CV] kernel=rbf, C=0.5, coef0=0.0 ....................................\n",
      "[CV] .... kernel=poly, C=0.5, coef0=0.0, score=0.000000, total= 2.3min\n",
      "[CV] kernel=rbf, C=0.5, coef0=0.0 ....................................\n",
      "[CV] .... kernel=poly, C=0.5, coef0=0.0, score=0.000000, total= 2.2min\n",
      "[CV] kernel=sigmoid, C=0.5, coef0=0.0 ................................\n",
      "[CV] ..... kernel=rbf, C=0.5, coef0=0.0, score=0.688104, total= 2.2min\n",
      "[CV] kernel=sigmoid, C=0.5, coef0=0.0 ................................\n",
      "[CV] ..... kernel=rbf, C=0.5, coef0=0.0, score=0.688675, total= 2.2min\n",
      "[CV] kernel=sigmoid, C=0.5, coef0=0.0 ................................\n",
      "[CV] ..... kernel=rbf, C=0.5, coef0=0.0, score=0.690548, total= 2.2min\n",
      "[CV] kernel=linear, C=0.5, coef0=0.05 ................................\n"
     ]
    },
    {
     "name": "stderr",
     "output_type": "stream",
     "text": [
      "[Parallel(n_jobs=-1)]: Done 105 tasks      | elapsed: 96.0min\n"
     ]
    },
    {
     "name": "stdout",
     "output_type": "stream",
     "text": [
      "[CV] . kernel=sigmoid, C=0.5, coef0=0.0, score=0.684557, total= 2.0min\n",
      "[CV] kernel=linear, C=0.5, coef0=0.05 ................................\n",
      "[CV] . kernel=sigmoid, C=0.5, coef0=0.0, score=0.681680, total= 2.1min\n",
      "[CV] kernel=linear, C=0.5, coef0=0.05 ................................\n",
      "[CV] . kernel=linear, C=0.5, coef0=0.05, score=0.680546, total= 1.8min\n",
      "[CV] kernel=poly, C=0.5, coef0=0.05 ..................................\n",
      "[CV] . kernel=linear, C=0.5, coef0=0.05, score=0.690859, total= 1.7min\n",
      "[CV] kernel=poly, C=0.5, coef0=0.05 ..................................\n",
      "[CV] . kernel=sigmoid, C=0.5, coef0=0.0, score=0.686133, total= 2.4min\n",
      "[CV] kernel=poly, C=0.5, coef0=0.05 ..................................\n",
      "[CV] . kernel=linear, C=0.5, coef0=0.05, score=0.681200, total= 1.9min\n",
      "[CV] kernel=rbf, C=0.5, coef0=0.05 ...................................\n",
      "[CV] ... kernel=poly, C=0.5, coef0=0.05, score=0.000000, total= 2.4min\n",
      "[CV] kernel=rbf, C=0.5, coef0=0.05 ...................................\n",
      "[CV] ... kernel=poly, C=0.5, coef0=0.05, score=0.000000, total= 2.2min\n",
      "[CV] kernel=rbf, C=0.5, coef0=0.05 ...................................\n",
      "[CV] ... kernel=poly, C=0.5, coef0=0.05, score=0.000000, total= 2.3min\n",
      "[CV] kernel=sigmoid, C=0.5, coef0=0.05 ...............................\n",
      "[CV] .... kernel=rbf, C=0.5, coef0=0.05, score=0.688104, total= 2.3min\n",
      "[CV] kernel=sigmoid, C=0.5, coef0=0.05 ...............................\n",
      "[CV] .... kernel=rbf, C=0.5, coef0=0.05, score=0.690548, total= 2.1min\n",
      "[CV] kernel=sigmoid, C=0.5, coef0=0.05 ...............................\n",
      "[CV] .... kernel=rbf, C=0.5, coef0=0.05, score=0.688675, total= 2.3min\n",
      "[CV] kernel=linear, C=0.5, coef0=0.1 .................................\n",
      "[CV]  kernel=sigmoid, C=0.5, coef0=0.05, score=0.684206, total= 2.0min\n",
      "[CV] kernel=linear, C=0.5, coef0=0.1 .................................\n",
      "[CV]  kernel=sigmoid, C=0.5, coef0=0.05, score=0.681641, total= 2.1min\n",
      "[CV] kernel=linear, C=0.5, coef0=0.1 .................................\n",
      "[CV] .. kernel=linear, C=0.5, coef0=0.1, score=0.680546, total= 1.6min\n",
      "[CV] kernel=poly, C=0.5, coef0=0.1 ...................................\n"
     ]
    },
    {
     "name": "stderr",
     "output_type": "stream",
     "text": [
      "[Parallel(n_jobs=-1)]: Done 120 tasks      | elapsed: 108.1min\n"
     ]
    },
    {
     "name": "stdout",
     "output_type": "stream",
     "text": [
      "[CV] .. kernel=linear, C=0.5, coef0=0.1, score=0.690859, total= 1.8min\n",
      "[CV] kernel=poly, C=0.5, coef0=0.1 ...................................\n",
      "[CV]  kernel=sigmoid, C=0.5, coef0=0.05, score=0.686177, total= 2.3min\n",
      "[CV] kernel=poly, C=0.5, coef0=0.1 ...................................\n",
      "[CV] .. kernel=linear, C=0.5, coef0=0.1, score=0.681200, total= 1.9min\n",
      "[CV] kernel=rbf, C=0.5, coef0=0.1 ....................................\n",
      "[CV] .... kernel=poly, C=0.5, coef0=0.1, score=0.001664, total= 2.5min\n",
      "[CV] kernel=rbf, C=0.5, coef0=0.1 ....................................\n",
      "[CV] .... kernel=poly, C=0.5, coef0=0.1, score=0.003323, total= 2.5min\n",
      "[CV] kernel=rbf, C=0.5, coef0=0.1 ....................................\n",
      "[CV] .... kernel=poly, C=0.5, coef0=0.1, score=0.000000, total= 2.2min\n",
      "[CV] kernel=sigmoid, C=0.5, coef0=0.1 ................................\n",
      "[CV] ..... kernel=rbf, C=0.5, coef0=0.1, score=0.688104, total= 2.2min\n",
      "[CV] kernel=sigmoid, C=0.5, coef0=0.1 ................................\n",
      "[CV] ..... kernel=rbf, C=0.5, coef0=0.1, score=0.688675, total= 2.0min\n",
      "[CV] kernel=sigmoid, C=0.5, coef0=0.1 ................................\n",
      "[CV] . kernel=sigmoid, C=0.5, coef0=0.1, score=0.684050, total= 2.2min\n",
      "[CV] kernel=linear, C=0.5, coef0=0.5 .................................\n",
      "[CV] ..... kernel=rbf, C=0.5, coef0=0.1, score=0.690548, total= 2.3min\n",
      "[CV] kernel=linear, C=0.5, coef0=0.5 .................................\n",
      "[CV] . kernel=sigmoid, C=0.5, coef0=0.1, score=0.680853, total= 2.0min\n",
      "[CV] kernel=linear, C=0.5, coef0=0.5 .................................\n",
      "[CV] .. kernel=linear, C=0.5, coef0=0.5, score=0.680546, total= 1.7min\n",
      "[CV] kernel=poly, C=0.5, coef0=0.5 ...................................\n",
      "[CV] . kernel=sigmoid, C=0.5, coef0=0.1, score=0.684870, total= 2.3min\n",
      "[CV] kernel=poly, C=0.5, coef0=0.5 ...................................\n",
      "[CV] .. kernel=linear, C=0.5, coef0=0.5, score=0.690859, total= 1.8min\n",
      "[CV] kernel=poly, C=0.5, coef0=0.5 ...................................\n",
      "[CV] .. kernel=linear, C=0.5, coef0=0.5, score=0.681200, total= 1.8min\n",
      "[CV] kernel=rbf, C=0.5, coef0=0.5 ....................................\n",
      "[CV] .... kernel=poly, C=0.5, coef0=0.5, score=0.680525, total= 2.0min\n",
      "[CV] kernel=rbf, C=0.5, coef0=0.5 ....................................\n",
      "[CV] .... kernel=poly, C=0.5, coef0=0.5, score=0.680403, total= 2.1min\n",
      "[CV] kernel=rbf, C=0.5, coef0=0.5 ....................................\n"
     ]
    },
    {
     "name": "stderr",
     "output_type": "stream",
     "text": [
      "[Parallel(n_jobs=-1)]: Done 137 tasks      | elapsed: 121.3min\n"
     ]
    },
    {
     "name": "stdout",
     "output_type": "stream",
     "text": [
      "[CV] .... kernel=poly, C=0.5, coef0=0.5, score=0.685553, total= 2.0min\n",
      "[CV] kernel=sigmoid, C=0.5, coef0=0.5 ................................\n",
      "[CV] ..... kernel=rbf, C=0.5, coef0=0.5, score=0.688104, total= 2.3min\n",
      "[CV] kernel=sigmoid, C=0.5, coef0=0.5 ................................\n",
      "[CV] ..... kernel=rbf, C=0.5, coef0=0.5, score=0.688675, total= 2.1min\n",
      "[CV] kernel=sigmoid, C=0.5, coef0=0.5 ................................\n",
      "[CV] ..... kernel=rbf, C=0.5, coef0=0.5, score=0.690548, total= 2.2min\n",
      "[CV] kernel=linear, C=1.0, coef0=0.0 .................................\n",
      "[CV] . kernel=sigmoid, C=0.5, coef0=0.5, score=0.682495, total= 2.3min\n",
      "[CV] kernel=linear, C=1.0, coef0=0.0 .................................\n",
      "[CV] . kernel=sigmoid, C=0.5, coef0=0.5, score=0.679577, total= 2.5min\n",
      "[CV] kernel=linear, C=1.0, coef0=0.0 .................................\n",
      "[CV] .. kernel=linear, C=1.0, coef0=0.0, score=0.680620, total= 1.8min\n",
      "[CV] kernel=poly, C=1.0, coef0=0.0 ...................................\n",
      "[CV] .. kernel=linear, C=1.0, coef0=0.0, score=0.690478, total= 1.8min\n",
      "[CV] kernel=poly, C=1.0, coef0=0.0 ...................................\n",
      "[CV] . kernel=sigmoid, C=0.5, coef0=0.5, score=0.680983, total= 2.4min\n",
      "[CV] kernel=poly, C=1.0, coef0=0.0 ...................................\n",
      "[CV] .. kernel=linear, C=1.0, coef0=0.0, score=0.682061, total= 1.9min\n",
      "[CV] kernel=rbf, C=1.0, coef0=0.0 ....................................\n",
      "[CV] .... kernel=poly, C=1.0, coef0=0.0, score=0.000000, total= 2.2min\n",
      "[CV] kernel=rbf, C=1.0, coef0=0.0 ....................................\n",
      "[CV] .... kernel=poly, C=1.0, coef0=0.0, score=0.000000, total= 2.5min\n",
      "[CV] kernel=rbf, C=1.0, coef0=0.0 ....................................\n",
      "[CV] .... kernel=poly, C=1.0, coef0=0.0, score=0.000000, total= 2.3min\n",
      "[CV] kernel=sigmoid, C=1.0, coef0=0.0 ................................\n",
      "[CV] ..... kernel=rbf, C=1.0, coef0=0.0, score=0.689683, total= 2.2min\n",
      "[CV] kernel=sigmoid, C=1.0, coef0=0.0 ................................\n",
      "[CV] ..... kernel=rbf, C=1.0, coef0=0.0, score=0.688978, total= 2.2min\n",
      "[CV] kernel=sigmoid, C=1.0, coef0=0.0 ................................\n",
      "[CV] ..... kernel=rbf, C=1.0, coef0=0.0, score=0.679976, total= 2.2min\n",
      "[CV] kernel=linear, C=1.0, coef0=0.05 ................................\n",
      "[CV] . kernel=sigmoid, C=1.0, coef0=0.0, score=0.689375, total= 2.1min\n",
      "[CV] kernel=linear, C=1.0, coef0=0.05 ................................\n"
     ]
    },
    {
     "name": "stderr",
     "output_type": "stream",
     "text": [
      "[Parallel(n_jobs=-1)]: Done 154 tasks      | elapsed: 134.8min\n"
     ]
    },
    {
     "name": "stdout",
     "output_type": "stream",
     "text": [
      "[CV] . kernel=sigmoid, C=1.0, coef0=0.0, score=0.690340, total= 1.9min\n",
      "[CV] kernel=linear, C=1.0, coef0=0.05 ................................\n",
      "[CV] . kernel=linear, C=1.0, coef0=0.05, score=0.680620, total= 2.0min\n",
      "[CV] kernel=poly, C=1.0, coef0=0.05 ..................................\n",
      "[CV] . kernel=sigmoid, C=1.0, coef0=0.0, score=0.691684, total= 2.2min\n",
      "[CV] kernel=poly, C=1.0, coef0=0.05 ..................................\n",
      "[CV] . kernel=linear, C=1.0, coef0=0.05, score=0.690478, total= 2.0min\n",
      "[CV] kernel=poly, C=1.0, coef0=0.05 ..................................\n",
      "[CV] . kernel=linear, C=1.0, coef0=0.05, score=0.682061, total= 2.0min\n",
      "[CV] kernel=rbf, C=1.0, coef0=0.05 ...................................\n",
      "[CV] ... kernel=poly, C=1.0, coef0=0.05, score=0.003323, total= 2.4min\n",
      "[CV] kernel=rbf, C=1.0, coef0=0.05 ...................................\n",
      "[CV] ... kernel=poly, C=1.0, coef0=0.05, score=0.000000, total= 2.3min\n",
      "[CV] kernel=rbf, C=1.0, coef0=0.05 ...................................\n",
      "[CV] ... kernel=poly, C=1.0, coef0=0.05, score=0.004978, total= 2.4min\n",
      "[CV] kernel=sigmoid, C=1.0, coef0=0.05 ...............................\n",
      "[CV] .... kernel=rbf, C=1.0, coef0=0.05, score=0.689683, total= 2.0min\n",
      "[CV] kernel=sigmoid, C=1.0, coef0=0.05 ...............................\n",
      "[CV] .... kernel=rbf, C=1.0, coef0=0.05, score=0.688978, total= 2.0min\n",
      "[CV] kernel=sigmoid, C=1.0, coef0=0.05 ...............................\n",
      "[CV] .... kernel=rbf, C=1.0, coef0=0.05, score=0.679976, total= 2.0min\n",
      "[CV] kernel=linear, C=1.0, coef0=0.1 .................................\n",
      "[CV]  kernel=sigmoid, C=1.0, coef0=0.05, score=0.688968, total= 2.2min\n",
      "[CV] kernel=linear, C=1.0, coef0=0.1 .................................\n",
      "[CV]  kernel=sigmoid, C=1.0, coef0=0.05, score=0.689512, total= 2.1min\n",
      "[CV] kernel=linear, C=1.0, coef0=0.1 .................................\n",
      "[CV] .. kernel=linear, C=1.0, coef0=0.1, score=0.680620, total= 1.9min\n",
      "[CV] kernel=poly, C=1.0, coef0=0.1 ...................................\n",
      "[CV]  kernel=sigmoid, C=1.0, coef0=0.05, score=0.692301, total= 2.3min\n",
      "[CV] kernel=poly, C=1.0, coef0=0.1 ...................................\n",
      "[CV] .. kernel=linear, C=1.0, coef0=0.1, score=0.690478, total= 2.0min\n",
      "[CV] kernel=poly, C=1.0, coef0=0.1 ...................................\n",
      "[CV] .. kernel=linear, C=1.0, coef0=0.1, score=0.682061, total= 2.0min\n",
      "[CV] kernel=rbf, C=1.0, coef0=0.1 ....................................\n",
      "[CV] .... kernel=poly, C=1.0, coef0=0.1, score=0.600293, total= 2.3min\n",
      "[CV] kernel=rbf, C=1.0, coef0=0.1 ....................................\n",
      "[CV] .... kernel=poly, C=1.0, coef0=0.1, score=0.602401, total= 2.4min\n",
      "[CV] kernel=rbf, C=1.0, coef0=0.1 ....................................\n"
     ]
    },
    {
     "name": "stderr",
     "output_type": "stream",
     "text": [
      "[Parallel(n_jobs=-1)]: Done 173 tasks      | elapsed: 150.4min\n"
     ]
    },
    {
     "name": "stdout",
     "output_type": "stream",
     "text": [
      "[CV] .... kernel=poly, C=1.0, coef0=0.1, score=0.593493, total= 2.5min\n",
      "[CV] kernel=sigmoid, C=1.0, coef0=0.1 ................................\n",
      "[CV] ..... kernel=rbf, C=1.0, coef0=0.1, score=0.689683, total= 2.1min\n",
      "[CV] kernel=sigmoid, C=1.0, coef0=0.1 ................................\n",
      "[CV] ..... kernel=rbf, C=1.0, coef0=0.1, score=0.688978, total= 2.1min\n",
      "[CV] kernel=sigmoid, C=1.0, coef0=0.1 ................................\n",
      "[CV] ..... kernel=rbf, C=1.0, coef0=0.1, score=0.679976, total= 2.2min\n",
      "[CV] kernel=linear, C=1.0, coef0=0.5 .................................\n",
      "[CV] . kernel=sigmoid, C=1.0, coef0=0.1, score=0.689417, total= 2.1min\n",
      "[CV] kernel=linear, C=1.0, coef0=0.5 .................................\n",
      "[CV] . kernel=sigmoid, C=1.0, coef0=0.1, score=0.688643, total= 1.9min\n",
      "[CV] kernel=linear, C=1.0, coef0=0.5 .................................\n",
      "[CV] .. kernel=linear, C=1.0, coef0=0.5, score=0.680620, total= 1.9min\n",
      "[CV] kernel=poly, C=1.0, coef0=0.5 ...................................\n",
      "[CV] . kernel=sigmoid, C=1.0, coef0=0.1, score=0.692203, total= 2.1min\n",
      "[CV] kernel=poly, C=1.0, coef0=0.5 ...................................\n",
      "[CV] .. kernel=linear, C=1.0, coef0=0.5, score=0.690478, total= 2.0min\n",
      "[CV] kernel=poly, C=1.0, coef0=0.5 ...................................\n",
      "[CV] .. kernel=linear, C=1.0, coef0=0.5, score=0.682061, total= 2.1min\n",
      "[CV] kernel=rbf, C=1.0, coef0=0.5 ....................................\n",
      "[CV] .... kernel=poly, C=1.0, coef0=0.5, score=0.687104, total= 1.8min\n",
      "[CV] kernel=rbf, C=1.0, coef0=0.5 ....................................\n",
      "[CV] .... kernel=poly, C=1.0, coef0=0.5, score=0.688710, total= 1.9min\n",
      "[CV] kernel=rbf, C=1.0, coef0=0.5 ....................................\n",
      "[CV] .... kernel=poly, C=1.0, coef0=0.5, score=0.689957, total= 1.8min\n",
      "[CV] kernel=sigmoid, C=1.0, coef0=0.5 ................................\n",
      "[CV] ..... kernel=rbf, C=1.0, coef0=0.5, score=0.689683, total= 2.3min\n",
      "[CV] kernel=sigmoid, C=1.0, coef0=0.5 ................................\n",
      "[CV] ..... kernel=rbf, C=1.0, coef0=0.5, score=0.688978, total= 2.1min\n",
      "[CV] kernel=sigmoid, C=1.0, coef0=0.5 ................................\n",
      "[CV] ..... kernel=rbf, C=1.0, coef0=0.5, score=0.679976, total= 2.3min\n",
      "[CV] kernel=linear, C=2.0, coef0=0.0 .................................\n",
      "[CV] . kernel=sigmoid, C=1.0, coef0=0.5, score=0.688965, total= 2.2min\n",
      "[CV] kernel=linear, C=2.0, coef0=0.0 .................................\n",
      "[CV] . kernel=sigmoid, C=1.0, coef0=0.5, score=0.685575, total= 2.3min\n",
      "[CV] kernel=linear, C=2.0, coef0=0.0 .................................\n",
      "[CV] .. kernel=linear, C=2.0, coef0=0.0, score=0.680515, total= 2.0min\n",
      "[CV] kernel=poly, C=2.0, coef0=0.0 ...................................\n"
     ]
    },
    {
     "name": "stderr",
     "output_type": "stream",
     "text": [
      "[Parallel(n_jobs=-1)]: Done 192 tasks      | elapsed: 165.7min\n"
     ]
    },
    {
     "name": "stdout",
     "output_type": "stream",
     "text": [
      "[CV] .. kernel=linear, C=2.0, coef0=0.0, score=0.689993, total= 2.1min\n",
      "[CV] kernel=poly, C=2.0, coef0=0.0 ...................................\n",
      "[CV] . kernel=sigmoid, C=1.0, coef0=0.5, score=0.690878, total= 2.3min\n",
      "[CV] kernel=poly, C=2.0, coef0=0.0 ...................................\n",
      "[CV] .. kernel=linear, C=2.0, coef0=0.0, score=0.682061, total= 2.0min\n",
      "[CV] kernel=rbf, C=2.0, coef0=0.0 ....................................\n",
      "[CV] .... kernel=poly, C=2.0, coef0=0.0, score=0.000000, total= 2.2min\n",
      "[CV] kernel=rbf, C=2.0, coef0=0.0 ....................................\n",
      "[CV] .... kernel=poly, C=2.0, coef0=0.0, score=0.000000, total= 2.3min\n",
      "[CV] kernel=rbf, C=2.0, coef0=0.0 ....................................\n",
      "[CV] .... kernel=poly, C=2.0, coef0=0.0, score=0.000000, total= 2.4min\n",
      "[CV] kernel=sigmoid, C=2.0, coef0=0.0 ................................\n",
      "[CV] ..... kernel=rbf, C=2.0, coef0=0.0, score=0.684948, total= 2.0min\n",
      "[CV] kernel=sigmoid, C=2.0, coef0=0.0 ................................\n",
      "[CV] . kernel=sigmoid, C=2.0, coef0=0.0, score=0.688565, total= 1.9min\n",
      "[CV] kernel=sigmoid, C=2.0, coef0=0.0 ................................\n",
      "[CV] ..... kernel=rbf, C=2.0, coef0=0.0, score=0.689083, total= 2.2min\n",
      "[CV] kernel=linear, C=2.0, coef0=0.05 ................................\n",
      "[CV] ..... kernel=rbf, C=2.0, coef0=0.0, score=0.678441, total= 2.1min\n",
      "[CV] kernel=linear, C=2.0, coef0=0.05 ................................\n",
      "[CV] . kernel=sigmoid, C=2.0, coef0=0.0, score=0.689434, total= 1.9min\n",
      "[CV] kernel=linear, C=2.0, coef0=0.05 ................................\n",
      "[CV] . kernel=linear, C=2.0, coef0=0.05, score=0.680515, total= 2.0min\n",
      "[CV] kernel=poly, C=2.0, coef0=0.05 ..................................\n",
      "[CV] . kernel=sigmoid, C=2.0, coef0=0.0, score=0.682375, total= 2.0min\n",
      "[CV] kernel=poly, C=2.0, coef0=0.05 ..................................\n",
      "[CV] . kernel=linear, C=2.0, coef0=0.05, score=0.689993, total= 2.1min\n",
      "[CV] kernel=poly, C=2.0, coef0=0.05 ..................................\n",
      "[CV] . kernel=linear, C=2.0, coef0=0.05, score=0.682061, total= 2.2min\n",
      "[CV] kernel=rbf, C=2.0, coef0=0.05 ...................................\n",
      "[CV] ... kernel=poly, C=2.0, coef0=0.05, score=0.599091, total= 2.3min\n",
      "[CV] kernel=rbf, C=2.0, coef0=0.05 ...................................\n",
      "[CV] ... kernel=poly, C=2.0, coef0=0.05, score=0.595921, total= 2.2min\n",
      "[CV] kernel=rbf, C=2.0, coef0=0.05 ...................................\n",
      "[CV] ... kernel=poly, C=2.0, coef0=0.05, score=0.592536, total= 2.3min\n",
      "[CV] kernel=sigmoid, C=2.0, coef0=0.05 ...............................\n",
      "[CV] .... kernel=rbf, C=2.0, coef0=0.05, score=0.684948, total= 2.2min\n",
      "[CV] kernel=sigmoid, C=2.0, coef0=0.05 ...............................\n",
      "[CV] .... kernel=rbf, C=2.0, coef0=0.05, score=0.689083, total= 1.9min\n",
      "[CV] kernel=sigmoid, C=2.0, coef0=0.05 ...............................\n",
      "[CV]  kernel=sigmoid, C=2.0, coef0=0.05, score=0.687725, total= 2.1min\n",
      "[CV] kernel=linear, C=2.0, coef0=0.1 .................................\n"
     ]
    },
    {
     "name": "stderr",
     "output_type": "stream",
     "text": [
      "[Parallel(n_jobs=-1)]: Done 213 tasks      | elapsed: 181.8min\n"
     ]
    },
    {
     "name": "stdout",
     "output_type": "stream",
     "text": [
      "[CV] .... kernel=rbf, C=2.0, coef0=0.05, score=0.678441, total= 2.1min\n",
      "[CV] kernel=linear, C=2.0, coef0=0.1 .................................\n",
      "[CV]  kernel=sigmoid, C=2.0, coef0=0.05, score=0.689073, total= 1.8min\n",
      "[CV] kernel=linear, C=2.0, coef0=0.1 .................................\n",
      "[CV]  kernel=sigmoid, C=2.0, coef0=0.05, score=0.682336, total= 2.0min\n",
      "[CV] kernel=poly, C=2.0, coef0=0.1 ...................................\n",
      "[CV] .. kernel=linear, C=2.0, coef0=0.1, score=0.680515, total= 2.1min\n",
      "[CV] kernel=poly, C=2.0, coef0=0.1 ...................................\n",
      "[CV] .. kernel=linear, C=2.0, coef0=0.1, score=0.682061, total= 2.0min\n",
      "[CV] kernel=poly, C=2.0, coef0=0.1 ...................................\n",
      "[CV] .. kernel=linear, C=2.0, coef0=0.1, score=0.689993, total= 2.2min\n",
      "[CV] kernel=rbf, C=2.0, coef0=0.1 ....................................\n",
      "[CV] .... kernel=poly, C=2.0, coef0=0.1, score=0.664476, total= 2.1min\n",
      "[CV] kernel=rbf, C=2.0, coef0=0.1 ....................................\n",
      "[CV] .... kernel=poly, C=2.0, coef0=0.1, score=0.655638, total= 2.1min\n",
      "[CV] kernel=rbf, C=2.0, coef0=0.1 ....................................\n",
      "[CV] .... kernel=poly, C=2.0, coef0=0.1, score=0.659622, total= 2.3min\n",
      "[CV] kernel=sigmoid, C=2.0, coef0=0.1 ................................\n",
      "[CV] ..... kernel=rbf, C=2.0, coef0=0.1, score=0.684948, total= 2.2min\n",
      "[CV] kernel=sigmoid, C=2.0, coef0=0.1 ................................\n",
      "[CV] ..... kernel=rbf, C=2.0, coef0=0.1, score=0.689083, total= 2.2min\n",
      "[CV] kernel=sigmoid, C=2.0, coef0=0.1 ................................\n",
      "[CV] ..... kernel=rbf, C=2.0, coef0=0.1, score=0.678441, total= 2.0min\n",
      "[CV] kernel=linear, C=2.0, coef0=0.5 .................................\n",
      "[CV] . kernel=sigmoid, C=2.0, coef0=0.1, score=0.689212, total= 1.9min\n",
      "[CV] kernel=linear, C=2.0, coef0=0.5 .................................\n",
      "[CV] . kernel=sigmoid, C=2.0, coef0=0.1, score=0.686965, total= 2.2min\n",
      "[CV] kernel=linear, C=2.0, coef0=0.5 .................................\n",
      "[CV] .. kernel=linear, C=2.0, coef0=0.5, score=0.680515, total= 2.2min\n",
      "[CV] kernel=poly, C=2.0, coef0=0.5 ...................................\n",
      "[CV] .. kernel=linear, C=2.0, coef0=0.5, score=0.689993, total= 2.0min\n",
      "[CV] kernel=poly, C=2.0, coef0=0.5 ...................................\n",
      "[CV] . kernel=sigmoid, C=2.0, coef0=0.1, score=0.682489, total= 2.2min\n",
      "[CV] kernel=poly, C=2.0, coef0=0.5 ...................................\n",
      "[CV] .. kernel=linear, C=2.0, coef0=0.5, score=0.682061, total= 2.1min\n",
      "[CV] kernel=rbf, C=2.0, coef0=0.5 ....................................\n",
      "[CV] .... kernel=poly, C=2.0, coef0=0.5, score=0.690958, total= 1.7min\n",
      "[CV] kernel=rbf, C=2.0, coef0=0.5 ....................................\n",
      "[CV] .... kernel=poly, C=2.0, coef0=0.5, score=0.690667, total= 1.8min\n",
      "[CV] kernel=rbf, C=2.0, coef0=0.5 ....................................\n",
      "[CV] .... kernel=poly, C=2.0, coef0=0.5, score=0.680937, total= 2.0min\n",
      "[CV] kernel=sigmoid, C=2.0, coef0=0.5 ................................\n",
      "[CV] ..... kernel=rbf, C=2.0, coef0=0.5, score=0.684948, total= 2.0min\n",
      "[CV] kernel=sigmoid, C=2.0, coef0=0.5 ................................\n",
      "[CV] ..... kernel=rbf, C=2.0, coef0=0.5, score=0.689083, total= 2.1min\n",
      "[CV] kernel=sigmoid, C=2.0, coef0=0.5 ................................\n",
      "[CV] ..... kernel=rbf, C=2.0, coef0=0.5, score=0.678441, total= 2.1min\n",
      "[CV] . kernel=sigmoid, C=2.0, coef0=0.5, score=0.689489, total= 2.1min\n",
      "[CV] . kernel=sigmoid, C=2.0, coef0=0.5, score=0.689906, total= 2.1min\n",
      "[CV] . kernel=sigmoid, C=2.0, coef0=0.5, score=0.685753, total= 1.5min\n"
     ]
    },
    {
     "name": "stderr",
     "output_type": "stream",
     "text": [
      "[Parallel(n_jobs=-1)]: Done 240 out of 240 | elapsed: 201.9min finished\n"
     ]
    },
    {
     "ename": "NameError",
     "evalue": "name 'grid_fit' is not defined",
     "output_type": "error",
     "traceback": [
      "\u001b[0;31m---------------------------------------------------------------------------\u001b[0m",
      "\u001b[0;31mNameError\u001b[0m                                 Traceback (most recent call last)",
      "\u001b[0;32m<ipython-input-142-67b8fb3bca43>\u001b[0m in \u001b[0;36m<module>\u001b[0;34m()\u001b[0m\n\u001b[1;32m     31\u001b[0m \u001b[0;34m\u001b[0m\u001b[0m\n\u001b[1;32m     32\u001b[0m \u001b[0;31m# Get the estimator\u001b[0m\u001b[0;34m\u001b[0m\u001b[0;34m\u001b[0m\u001b[0m\n\u001b[0;32m---> 33\u001b[0;31m \u001b[0mbest_clf\u001b[0m \u001b[0;34m=\u001b[0m \u001b[0mgrid_fit\u001b[0m\u001b[0;34m.\u001b[0m\u001b[0mbest_estimator_\u001b[0m\u001b[0;34m\u001b[0m\u001b[0m\n\u001b[0m\u001b[1;32m     34\u001b[0m \u001b[0;34m\u001b[0m\u001b[0m\n\u001b[1;32m     35\u001b[0m \u001b[0;31m# Make predictions using the unoptimized and model\u001b[0m\u001b[0;34m\u001b[0m\u001b[0;34m\u001b[0m\u001b[0m\n",
      "\u001b[0;31mNameError\u001b[0m: name 'grid_fit' is not defined"
     ]
    }
   ],
   "source": [
    "# TODO: Import 'GridSearchCV', 'make_scorer', and any other necessary libraries\n",
    "from sklearn.model_selection import GridSearchCV\n",
    "from sklearn.metrics import make_scorer, fbeta_score\n",
    "from sklearn.svm import SVC\n",
    "\n",
    "# TODO: Initialize the classifier\n",
    "clf = SVC(random_state=10)\n",
    "\n",
    "# TODO: Create the parameters list you wish to tune, using a dictionary if needed.\n",
    "# HINT: parameters = {'parameter_1': [value1, value2], 'parameter_2': [value1, value2]}\n",
    "parameters = {\n",
    "    'C': [ 0.01, 0.1, 0.5, 1.0, 2.0 ],\n",
    "    'kernel': [ 'linear', 'poly', 'rbf', 'sigmoid' ],\n",
    "    'coef0': [ 0.0, 0.05, 0.1, 0.5 ],\n",
    "}\n",
    "\n",
    "# TODO: Make an fbeta_score scoring object using make_scorer()\n",
    "beta = 0.5\n",
    "scorer = make_scorer(fbeta_score, beta=beta)\n",
    "\n",
    "# TODO: Perform grid search on the classifier using 'scorer' as the scoring method using GridSearchCV()\n",
    "grid_obj = GridSearchCV(clf, parameters, scoring=scorer, verbose=10, n_jobs=-1)\n",
    "\n",
    "# TODO: Fit the grid search object to the training data and find the optimal parameters using fit()\n",
    "X_train_arr = X_train.values\n",
    "y_train_arr = y_train.values.ravel()\n",
    "X_test_arr = X_test.values\n",
    "y_test_arr = y_test.values.ravel()\n",
    "\n",
    "grid_obj.fit(X_train_arr, y_train_arr)\n",
    "\n"
   ]
  },
  {
   "cell_type": "code",
   "execution_count": 143,
   "metadata": {},
   "outputs": [
    {
     "name": "stdout",
     "output_type": "stream",
     "text": [
      "Unoptimized model\n",
      "------\n",
      "Accuracy score on testing data: 0.8371\n",
      "F-score on testing data: 0.6745\n",
      "\n",
      "Optimized Model\n",
      "------\n",
      "Final accuracy score on the testing data: 0.8392\n",
      "Final F-score on the testing data: 0.6803\n"
     ]
    }
   ],
   "source": [
    "# Get the estimator\n",
    "best_clf = grid_obj.best_estimator_\n",
    "\n",
    "# Make predictions using the unoptimized and model\n",
    "predictions = (clf.fit(X_train_arr, y_train_arr)).predict(X_test_arr)\n",
    "best_predictions = best_clf.predict(X_test_arr)\n",
    "\n",
    "# Report the before-and-afterscores\n",
    "print \"Unoptimized model\\n------\"\n",
    "print \"Accuracy score on testing data: {:.4f}\".format(accuracy_score(y_test_arr, predictions))\n",
    "print \"F-score on testing data: {:.4f}\".format(fbeta_score(y_test_arr, predictions, beta = 0.5))\n",
    "print \"\\nOptimized Model\\n------\"\n",
    "print \"Final accuracy score on the testing data: {:.4f}\".format(accuracy_score(y_test_arr, best_predictions))\n",
    "print \"Final F-score on the testing data: {:.4f}\".format(fbeta_score(y_test_arr, best_predictions, beta = 0.5))"
   ]
  },
  {
   "cell_type": "markdown",
   "metadata": {},
   "source": [
    "### Question 5 - Final Model Evaluation\n",
    "\n",
    "* What is your optimized model's accuracy and F-score on the testing data? \n",
    "* Are these scores better or worse than the unoptimized model? \n",
    "* How do the results from your optimized model compare to the naive predictor benchmarks you found earlier in **Question 1**?_  \n",
    "\n",
    "**Note:** Fill in the table below with your results, and then provide discussion in the **Answer** box."
   ]
  },
  {
   "cell_type": "markdown",
   "metadata": {},
   "source": [
    "#### Results:\n",
    "\n",
    "|     Metric     | Unoptimized Model | Optimized Model | Naive predictor (Q1) |\n",
    "| :------------: | :---------------: | :-------------: | :------------------: |\n",
    "| Accuracy Score |  0.837            |0.839            |   0.2478             |\n",
    "| F-score        |  0.674            |   0.680         |   0.2917             |\n"
   ]
  },
  {
   "cell_type": "markdown",
   "metadata": {},
   "source": [
    "**Answer: **\n",
    "- The optimized model accuracy is 0.839 and the F-score is 0.680 on the testing data\n",
    "- Those scores are better than the unoptimized model (accuracy = 0.837, F-score = 0.674)\n",
    "- Obviously, the results from the optimized model are much better than the naive predictor in question 1 (accuracy = 0.2478, F-score = 0.2917)"
   ]
  },
  {
   "cell_type": "markdown",
   "metadata": {},
   "source": [
    "----\n",
    "## Feature Importance\n",
    "\n",
    "An important task when performing supervised learning on a dataset like the census data we study here is determining which features provide the most predictive power. By focusing on the relationship between only a few crucial features and the target label we simplify our understanding of the phenomenon, which is most always a useful thing to do. In the case of this project, that means we wish to identify a small number of features that most strongly predict whether an individual makes at most or more than \\$50,000.\n",
    "\n",
    "Choose a scikit-learn classifier (e.g., adaboost, random forests) that has a `feature_importance_` attribute, which is a function that ranks the importance of features according to the chosen classifier.  In the next python cell fit this classifier to training set and use this attribute to determine the top 5 most important features for the census dataset."
   ]
  },
  {
   "cell_type": "markdown",
   "metadata": {},
   "source": [
    "### Question 6 - Feature Relevance Observation\n",
    "When **Exploring the Data**, it was shown there are thirteen available features for each individual on record in the census data. Of these thirteen records, which five features do you believe to be most important for prediction, and in what order would you rank them and why?"
   ]
  },
  {
   "cell_type": "markdown",
   "metadata": {},
   "source": [
    "**Answer:**\n",
    "\n",
    "age\tworkclass\teducation_level\teducation-num\tmarital-status\toccupation\trelationship\trace\tsex\tcapital-gain\tcapital-loss\thours-per-week\tnative-country\tincome\n",
    "I believe that the 5 most important features are (sorted by importance from high to low):\n",
    "- education-level\n",
    "- occupation\n",
    "- education-num\n",
    "- workclass\n",
    "- age\n",
    "\n",
    "Education level is obviously the most importance when determining whether a person can earn more or less than 50K. The people with higher education level can have better opportunities to find better jobs. People with more years studying can learn more and have a good understanding about their work. Occupation and work class is also significant because you can earn more money in some specific jobs. Age is also need to be considered because old people seem to be more stable and more experienced so they know how to make more money."
   ]
  },
  {
   "cell_type": "markdown",
   "metadata": {},
   "source": [
    "### Implementation - Extracting Feature Importance\n",
    "Choose a `scikit-learn` supervised learning algorithm that has a `feature_importance_` attribute availble for it. This attribute is a function that ranks the importance of each feature when making predictions based on the chosen algorithm.\n",
    "\n",
    "In the code cell below, you will need to implement the following:\n",
    " - Import a supervised learning model from sklearn if it is different from the three used earlier.\n",
    " - Train the supervised model on the entire training set.\n",
    " - Extract the feature importances using `'.feature_importances_'`."
   ]
  },
  {
   "cell_type": "code",
   "execution_count": 144,
   "metadata": {},
   "outputs": [
    {
     "data": {
      "image/png": "[encoded data removed]",
      "text/plain": [
       "<matplotlib.figure.Figure at 0x7f6519c78110>"
      ]
     },
     "metadata": {},
     "output_type": "display_data"
    }
   ],
   "source": [
    "# TODO: Import a supervised learning model that has 'feature_importances_'\n",
    "from sklearn.ensemble import RandomForestClassifier\n",
    "\n",
    "# TODO: Train the supervised model on the training set using .fit(X_train, y_train)\n",
    "model = RandomForestClassifier()\n",
    "model.fit(X_train_arr, y_train_arr)\n",
    "\n",
    "# TODO: Extract the feature importances using .feature_importances_ \n",
    "importances = model.feature_importances_\n",
    "\n",
    "# Plot\n",
    "vs.feature_plot(importances, X_train, y_train)"
   ]
  },
  {
   "cell_type": "markdown",
   "metadata": {},
   "source": [
    "### Question 7 - Extracting Feature Importance\n",
    "\n",
    "Observe the visualization created above which displays the five most relevant features for predicting if an individual makes at most or above \\$50,000.  \n",
    "* How do these five features compare to the five features you discussed in **Question 6**?\n",
    "* If you were close to the same answer, how does this visualization confirm your thoughts? \n",
    "* If you were not close, why do you think these features are more relevant?"
   ]
  },
  {
   "cell_type": "markdown",
   "metadata": {},
   "source": [
    "**Answer:**"
   ]
  },
  {
   "cell_type": "markdown",
   "metadata": {},
   "source": [
    "### Feature Selection\n",
    "How does a model perform if we only use a subset of all the available features in the data? With less features required to train, the expectation is that training and prediction time is much lower — at the cost of performance metrics. From the visualization above, we see that the top five most important features contribute more than half of the importance of **all** features present in the data. This hints that we can attempt to *reduce the feature space* and simplify the information required for the model to learn. The code cell below will use the same optimized model you found earlier, and train it on the same training set *with only the top five important features*. "
   ]
  },
  {
   "cell_type": "code",
   "execution_count": 145,
   "metadata": {},
   "outputs": [
    {
     "name": "stdout",
     "output_type": "stream",
     "text": [
      "Final Model trained on full data\n",
      "------\n",
      "Accuracy on testing data: 0.8392\n",
      "F-score on testing data: 0.6803\n",
      "\n",
      "Final Model trained on reduced data\n",
      "------\n",
      "Accuracy on testing data: 0.8226\n",
      "F-score on testing data: 0.6420\n"
     ]
    }
   ],
   "source": [
    "# Import functionality for cloning a model\n",
    "from sklearn.base import clone\n",
    "\n",
    "# Reduce the feature space\n",
    "X_train_reduced = X_train[X_train.columns.values[(np.argsort(importances)[::-1])[:5]]]\n",
    "X_test_reduced = X_test[X_test.columns.values[(np.argsort(importances)[::-1])[:5]]]\n",
    "\n",
    "# Train on the \"best\" model found from grid search earlier\n",
    "clf = (clone(best_clf)).fit(X_train_reduced, y_train)\n",
    "\n",
    "# Make new predictions\n",
    "reduced_predictions = clf.predict(X_test_reduced)\n",
    "\n",
    "# Report scores from the final model using both versions of data\n",
    "print \"Final Model trained on full data\\n------\"\n",
    "print \"Accuracy on testing data: {:.4f}\".format(accuracy_score(y_test, best_predictions))\n",
    "print \"F-score on testing data: {:.4f}\".format(fbeta_score(y_test, best_predictions, beta = 0.5))\n",
    "print \"\\nFinal Model trained on reduced data\\n------\"\n",
    "print \"Accuracy on testing data: {:.4f}\".format(accuracy_score(y_test, reduced_predictions))\n",
    "print \"F-score on testing data: {:.4f}\".format(fbeta_score(y_test, reduced_predictions, beta = 0.5))"
   ]
  },
  {
   "cell_type": "markdown",
   "metadata": {},
   "source": [
    "### Question 8 - Effects of Feature Selection\n",
    "\n",
    "* How does the final model's F-score and accuracy score on the reduced data using only five features compare to those same scores when all features are used?\n",
    "* If training time was a factor, would you consider using the reduced data as your training set?"
   ]
  },
  {
   "cell_type": "markdown",
   "metadata": {},
   "source": [
    "**Answer:**"
   ]
  },
  {
   "cell_type": "markdown",
   "metadata": {},
   "source": [
    "> **Note**: Once you have completed all of the code implementations and successfully answered each question above, you may finalize your work by exporting the iPython Notebook as an HTML document. You can do this by using the menu above and navigating to  \n",
    "**File -> Download as -> HTML (.html)**. Include the finished document along with this notebook as your submission."
   ]
  }
 ],
 "metadata": {
  "kernelspec": {
   "display_name": "Python 2",
   "language": "python",
   "name": "python2"
  },
  "language_info": {
   "codemirror_mode": {
    "name": "ipython",
    "version": 2
   },
   "file_extension": ".py",
   "mimetype": "text/x-python",
   "name": "python",
   "nbconvert_exporter": "python",
   "pygments_lexer": "ipython2",
   "version": "2.7.13"
  }
 },
 "nbformat": 4,
 "nbformat_minor": 1
}
